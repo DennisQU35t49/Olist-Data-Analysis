{
 "cells": [
  {
   "cell_type": "markdown",
   "metadata": {},
   "source": [
    "### **1. Business Understanding 🔍**\n",
    "\n",
    "### **Objective:**\n",
    "\n",
    "Analyze the Brazilian e-commerce dataset to uncover insights about sales performance, customer behavior, operational efficiency, and overall market trends. The goal is to support decision-making by providing actionable insights.\n",
    "\n",
    "### **Key Business Questions:**\n",
    "\n",
    "1. **❓ How are overall sales and revenue trending over time?**\n",
    "2. **❓ Which product categories and sellers contribute most to revenue?**\n",
    "3. **❓ How efficient is the delivery process in terms of on-time performance?**\n",
    "4. **❓ What payment methods are most popular and how do they impact revenue?**\n",
    "5. **❓ How do customer reviews correlate with order performance?**\n",
    "6. **❓ Which customers are most engaged or valuable?**\n",
    "7. **❓ What are the operational bottlenecks in shipping and order processing?**"
   ]
  },
  {
   "cell_type": "code",
   "execution_count": 2,
   "metadata": {},
   "outputs": [],
   "source": [
    "# Imported all the neccesary libraries\n",
    "import pandas as pd\n",
    "import matplotlib.pyplot as plt"
   ]
  },
  {
   "cell_type": "code",
   "execution_count": 3,
   "metadata": {},
   "outputs": [
    {
     "name": "stderr",
     "output_type": "stream",
     "text": [
      "<>:2: SyntaxWarning: invalid escape sequence '\\o'\n",
      "<>:3: SyntaxWarning: invalid escape sequence '\\o'\n",
      "<>:4: SyntaxWarning: invalid escape sequence '\\o'\n",
      "<>:5: SyntaxWarning: invalid escape sequence '\\o'\n",
      "<>:6: SyntaxWarning: invalid escape sequence '\\o'\n",
      "<>:7: SyntaxWarning: invalid escape sequence '\\o'\n",
      "<>:8: SyntaxWarning: invalid escape sequence '\\o'\n",
      "<>:9: SyntaxWarning: invalid escape sequence '\\p'\n",
      "<>:2: SyntaxWarning: invalid escape sequence '\\o'\n",
      "<>:3: SyntaxWarning: invalid escape sequence '\\o'\n",
      "<>:4: SyntaxWarning: invalid escape sequence '\\o'\n",
      "<>:5: SyntaxWarning: invalid escape sequence '\\o'\n",
      "<>:6: SyntaxWarning: invalid escape sequence '\\o'\n",
      "<>:7: SyntaxWarning: invalid escape sequence '\\o'\n",
      "<>:8: SyntaxWarning: invalid escape sequence '\\o'\n",
      "<>:9: SyntaxWarning: invalid escape sequence '\\p'\n",
      "C:\\Users\\Admin\\AppData\\Local\\Temp\\ipykernel_1944\\2970034499.py:2: SyntaxWarning: invalid escape sequence '\\o'\n",
      "  geolocation = pd.read_csv('Datasets\\olist_geolocation_dataset.csv')\n",
      "C:\\Users\\Admin\\AppData\\Local\\Temp\\ipykernel_1944\\2970034499.py:3: SyntaxWarning: invalid escape sequence '\\o'\n",
      "  items = pd.read_csv('Datasets\\olist_order_items_dataset.csv')\n",
      "C:\\Users\\Admin\\AppData\\Local\\Temp\\ipykernel_1944\\2970034499.py:4: SyntaxWarning: invalid escape sequence '\\o'\n",
      "  payments = pd.read_csv('Datasets\\olist_order_payments_dataset.csv')\n",
      "C:\\Users\\Admin\\AppData\\Local\\Temp\\ipykernel_1944\\2970034499.py:5: SyntaxWarning: invalid escape sequence '\\o'\n",
      "  Reviews = pd.read_csv('Datasets\\olist_order_reviews_dataset.csv')\n",
      "C:\\Users\\Admin\\AppData\\Local\\Temp\\ipykernel_1944\\2970034499.py:6: SyntaxWarning: invalid escape sequence '\\o'\n",
      "  orders = pd.read_csv('Datasets\\olist_orders_dataset.csv')\n",
      "C:\\Users\\Admin\\AppData\\Local\\Temp\\ipykernel_1944\\2970034499.py:7: SyntaxWarning: invalid escape sequence '\\o'\n",
      "  products = pd.read_csv('Datasets\\olist_products_dataset.csv')\n",
      "C:\\Users\\Admin\\AppData\\Local\\Temp\\ipykernel_1944\\2970034499.py:8: SyntaxWarning: invalid escape sequence '\\o'\n",
      "  sellers = pd.read_csv('Datasets\\olist_sellers_dataset.csv')\n",
      "C:\\Users\\Admin\\AppData\\Local\\Temp\\ipykernel_1944\\2970034499.py:9: SyntaxWarning: invalid escape sequence '\\p'\n",
      "  product_category = pd.read_csv('Datasets\\product_category_name_translation.csv')\n"
     ]
    }
   ],
   "source": [
    "# Loadd in all datasets\n",
    "geolocation = pd.read_csv('Datasets\\olist_geolocation_dataset.csv')\n",
    "items = pd.read_csv('Datasets\\olist_order_items_dataset.csv')\n",
    "payments = pd.read_csv('Datasets\\olist_order_payments_dataset.csv')\n",
    "Reviews = pd.read_csv('Datasets\\olist_order_reviews_dataset.csv')\n",
    "orders = pd.read_csv('Datasets\\olist_orders_dataset.csv')\n",
    "products = pd.read_csv('Datasets\\olist_products_dataset.csv')\n",
    "sellers = pd.read_csv('Datasets\\olist_sellers_dataset.csv')\n",
    "product_category = pd.read_csv('Datasets\\product_category_name_translation.csv')"
   ]
  },
  {
   "cell_type": "markdown",
   "metadata": {},
   "source": [
    "# Merging all the datasets"
   ]
  },
  {
   "cell_type": "code",
   "execution_count": 4,
   "metadata": {},
   "outputs": [],
   "source": [
    "# Merge 'orders' and 'items' on 'order_id'\n",
    "merged_df = pd.merge(orders, items, on='order_id', how='left')"
   ]
  },
  {
   "cell_type": "code",
   "execution_count": 5,
   "metadata": {},
   "outputs": [],
   "source": [
    "# Merge the result with 'payments'on 'order_id'\n",
    "merged_df = pd.merge(merged_df, payments, on='order_id', how='left')"
   ]
  },
  {
   "cell_type": "code",
   "execution_count": 6,
   "metadata": {},
   "outputs": [],
   "source": [
    "# Merge with products on 'product_id'\n",
    "merged_df = pd.merge(merged_df, products, on='product_id', how='left')"
   ]
  },
  {
   "cell_type": "code",
   "execution_count": 7,
   "metadata": {},
   "outputs": [],
   "source": [
    "# Merge with 'Reviews' on 'order_id'\n",
    "merged_df = pd.merge(merged_df, Reviews, on='order_id', how = 'left')"
   ]
  },
  {
   "cell_type": "code",
   "execution_count": 8,
   "metadata": {},
   "outputs": [],
   "source": [
    "# Merge the results with the sellers data on 'sellers_id'\n",
    "merged_df = pd.merge(merged_df, sellers, on ='seller_id', how='left')"
   ]
  },
  {
   "cell_type": "code",
   "execution_count": 9,
   "metadata": {},
   "outputs": [],
   "source": [
    "# Merge product category with product category\n",
    "merged_df = pd.merge(merged_df, product_category, on ='product_category_name', how='left')"
   ]
  },
  {
   "cell_type": "code",
   "execution_count": 10,
   "metadata": {},
   "outputs": [
    {
     "data": {
      "text/plain": [
       "Index(['order_id', 'customer_id', 'order_status', 'order_purchase_timestamp',\n",
       "       'order_approved_at', 'order_delivered_carrier_date',\n",
       "       'order_delivered_customer_date', 'order_estimated_delivery_date',\n",
       "       'order_item_id', 'product_id', 'seller_id', 'shipping_limit_date',\n",
       "       'price', 'freight_value', 'payment_sequential', 'payment_type',\n",
       "       'payment_installments', 'payment_value', 'product_category_name',\n",
       "       'product_name_lenght', 'product_description_lenght',\n",
       "       'product_photos_qty', 'product_weight_g', 'product_length_cm',\n",
       "       'product_height_cm', 'product_width_cm', 'review_id', 'review_score',\n",
       "       'review_comment_title', 'review_comment_message',\n",
       "       'review_creation_date', 'review_answer_timestamp',\n",
       "       'seller_zip_code_prefix', 'seller_city', 'seller_state',\n",
       "       'product_category_name_english'],\n",
       "      dtype='object')"
      ]
     },
     "execution_count": 10,
     "metadata": {},
     "output_type": "execute_result"
    }
   ],
   "source": [
    "merged_df.columns"
   ]
  },
  {
   "cell_type": "code",
   "execution_count": 11,
   "metadata": {},
   "outputs": [
    {
     "name": "stdout",
     "output_type": "stream",
     "text": [
      "                           order_id                       customer_id  \\\n",
      "0  e481f51cbdc54678b7cc49136f2d6af7  9ef432eb6251297304e76186b10a928d   \n",
      "1  e481f51cbdc54678b7cc49136f2d6af7  9ef432eb6251297304e76186b10a928d   \n",
      "2  e481f51cbdc54678b7cc49136f2d6af7  9ef432eb6251297304e76186b10a928d   \n",
      "3  53cdb2fc8bc7dce0b6741e2150273451  b0830fb4747a6c6d20dea0b8c802d7ef   \n",
      "4  47770eb9100c2d0c44946d9cf07ec65d  41ce2a54c0b03bf3443c3d931a367089   \n",
      "\n",
      "  order_status order_purchase_timestamp    order_approved_at  \\\n",
      "0    delivered      2017-10-02 10:56:33  2017-10-02 11:07:15   \n",
      "1    delivered      2017-10-02 10:56:33  2017-10-02 11:07:15   \n",
      "2    delivered      2017-10-02 10:56:33  2017-10-02 11:07:15   \n",
      "3    delivered      2018-07-24 20:41:37  2018-07-26 03:24:27   \n",
      "4    delivered      2018-08-08 08:38:49  2018-08-08 08:55:23   \n",
      "\n",
      "  order_delivered_carrier_date order_delivered_customer_date  \\\n",
      "0          2017-10-04 19:55:00           2017-10-10 21:25:13   \n",
      "1          2017-10-04 19:55:00           2017-10-10 21:25:13   \n",
      "2          2017-10-04 19:55:00           2017-10-10 21:25:13   \n",
      "3          2018-07-26 14:31:00           2018-08-07 15:27:45   \n",
      "4          2018-08-08 13:50:00           2018-08-17 18:06:29   \n",
      "\n",
      "  order_estimated_delivery_date                        product_id  \\\n",
      "0           2017-10-18 00:00:00  87285b34884572647811a353c7ac498a   \n",
      "1           2017-10-18 00:00:00  87285b34884572647811a353c7ac498a   \n",
      "2           2017-10-18 00:00:00  87285b34884572647811a353c7ac498a   \n",
      "3           2018-08-13 00:00:00  595fac2a385ac33a80bd5114aec74eb8   \n",
      "4           2018-09-04 00:00:00  aa4383b373c6aca5d8797843e5594415   \n",
      "\n",
      "                          seller_id  ... product_height_cm  product_width_cm  \\\n",
      "0  3504c0cb71d7fa48d967e0e4c94d59d9  ...               8.0              13.0   \n",
      "1  3504c0cb71d7fa48d967e0e4c94d59d9  ...               8.0              13.0   \n",
      "2  3504c0cb71d7fa48d967e0e4c94d59d9  ...               8.0              13.0   \n",
      "3  289cdb325fb7e7f891c38608bf9e0962  ...              13.0              19.0   \n",
      "4  4869f7a5dfa277a7dca6462dcf3b52b2  ...              19.0              21.0   \n",
      "\n",
      "                          review_id  review_score review_creation_date  \\\n",
      "0  a54f0611adc9ed256b57ede6b6eb5114           4.0  2017-10-11 00:00:00   \n",
      "1  a54f0611adc9ed256b57ede6b6eb5114           4.0  2017-10-11 00:00:00   \n",
      "2  a54f0611adc9ed256b57ede6b6eb5114           4.0  2017-10-11 00:00:00   \n",
      "3  8d5266042046a06655c8db133d120ba5           4.0  2018-08-08 00:00:00   \n",
      "4  e73b67b67587f7644d5bd1a52deb1b01           5.0  2018-08-18 00:00:00   \n",
      "\n",
      "   review_answer_timestamp  seller_zip_code_prefix     seller_city  \\\n",
      "0      2017-10-12 03:43:48                  9350.0            maua   \n",
      "1      2017-10-12 03:43:48                  9350.0            maua   \n",
      "2      2017-10-12 03:43:48                  9350.0            maua   \n",
      "3      2018-08-08 18:37:50                 31570.0  belo horizonte   \n",
      "4      2018-08-22 19:07:58                 14840.0         guariba   \n",
      "\n",
      "   seller_state  product_category_name_english  \n",
      "0            SP                     housewares  \n",
      "1            SP                     housewares  \n",
      "2            SP                     housewares  \n",
      "3            SP                      perfumery  \n",
      "4            SP                           auto  \n",
      "\n",
      "[5 rows x 29 columns]\n"
     ]
    }
   ],
   "source": [
    "# Dropping irrelevant columns\n",
    "columns_to_drop = [\n",
    "'order_item_id',          # Not needed for the dashboard.\n",
    "'review_comment_title',   # Not relevant unless you are analyzing reviews in detail.\n",
    "'review_comment_message', # Not relevant unless you are analyzing reviews in detail.\n",
    "'product_name_lenght',    # Length of the product name is not important.\n",
    "'product_description_lenght', # Length of the product description is not important.\n",
    "'product_photos_qty',     # Not important unless analyzing photos and sales.\n",
    "'product_category_name',  # Redundant column.\n",
    "   # Redundant column.\n",
    "]\n",
    "\n",
    "\n",
    "# Drop the irrelevant columns\n",
    "data = merged_df.drop(columns=columns_to_drop)\n",
    "\n",
    "# Inspect the cleaned DataFrame\n",
    "print(data.head())"
   ]
  },
  {
   "cell_type": "code",
   "execution_count": 12,
   "metadata": {},
   "outputs": [
    {
     "data": {
      "application/vnd.microsoft.datawrangler.viewer.v0+json": {
       "columns": [
        {
         "name": "index",
         "rawType": "int64",
         "type": "integer"
        },
        {
         "name": "order_id",
         "rawType": "object",
         "type": "string"
        },
        {
         "name": "customer_id",
         "rawType": "object",
         "type": "string"
        },
        {
         "name": "order_status",
         "rawType": "object",
         "type": "string"
        },
        {
         "name": "order_purchase_timestamp",
         "rawType": "object",
         "type": "string"
        },
        {
         "name": "order_approved_at",
         "rawType": "object",
         "type": "string"
        },
        {
         "name": "order_delivered_carrier_date",
         "rawType": "object",
         "type": "string"
        },
        {
         "name": "order_delivered_customer_date",
         "rawType": "object",
         "type": "string"
        },
        {
         "name": "order_estimated_delivery_date",
         "rawType": "object",
         "type": "string"
        },
        {
         "name": "product_id",
         "rawType": "object",
         "type": "string"
        },
        {
         "name": "seller_id",
         "rawType": "object",
         "type": "string"
        },
        {
         "name": "shipping_limit_date",
         "rawType": "object",
         "type": "string"
        },
        {
         "name": "price",
         "rawType": "float64",
         "type": "float"
        },
        {
         "name": "freight_value",
         "rawType": "float64",
         "type": "float"
        },
        {
         "name": "payment_sequential",
         "rawType": "float64",
         "type": "float"
        },
        {
         "name": "payment_type",
         "rawType": "object",
         "type": "string"
        },
        {
         "name": "payment_installments",
         "rawType": "float64",
         "type": "float"
        },
        {
         "name": "payment_value",
         "rawType": "float64",
         "type": "float"
        },
        {
         "name": "product_weight_g",
         "rawType": "float64",
         "type": "float"
        },
        {
         "name": "product_length_cm",
         "rawType": "float64",
         "type": "float"
        },
        {
         "name": "product_height_cm",
         "rawType": "float64",
         "type": "float"
        },
        {
         "name": "product_width_cm",
         "rawType": "float64",
         "type": "float"
        },
        {
         "name": "review_id",
         "rawType": "object",
         "type": "string"
        },
        {
         "name": "review_score",
         "rawType": "float64",
         "type": "float"
        },
        {
         "name": "review_creation_date",
         "rawType": "object",
         "type": "string"
        },
        {
         "name": "review_answer_timestamp",
         "rawType": "object",
         "type": "string"
        },
        {
         "name": "seller_zip_code_prefix",
         "rawType": "float64",
         "type": "float"
        },
        {
         "name": "seller_city",
         "rawType": "object",
         "type": "string"
        },
        {
         "name": "seller_state",
         "rawType": "object",
         "type": "string"
        },
        {
         "name": "product_category_name_english",
         "rawType": "object",
         "type": "string"
        }
       ],
       "conversionMethod": "pd.DataFrame",
       "ref": "e7adb349-7ed5-49dd-a438-4c60962f96b6",
       "rows": [
        [
         "0",
         "e481f51cbdc54678b7cc49136f2d6af7",
         "9ef432eb6251297304e76186b10a928d",
         "delivered",
         "2017-10-02 10:56:33",
         "2017-10-02 11:07:15",
         "2017-10-04 19:55:00",
         "2017-10-10 21:25:13",
         "2017-10-18 00:00:00",
         "87285b34884572647811a353c7ac498a",
         "3504c0cb71d7fa48d967e0e4c94d59d9",
         "2017-10-06 11:07:15",
         "29.99",
         "8.72",
         "1.0",
         "credit_card",
         "1.0",
         "18.12",
         "500.0",
         "19.0",
         "8.0",
         "13.0",
         "a54f0611adc9ed256b57ede6b6eb5114",
         "4.0",
         "2017-10-11 00:00:00",
         "2017-10-12 03:43:48",
         "9350.0",
         "maua",
         "SP",
         "housewares"
        ],
        [
         "1",
         "e481f51cbdc54678b7cc49136f2d6af7",
         "9ef432eb6251297304e76186b10a928d",
         "delivered",
         "2017-10-02 10:56:33",
         "2017-10-02 11:07:15",
         "2017-10-04 19:55:00",
         "2017-10-10 21:25:13",
         "2017-10-18 00:00:00",
         "87285b34884572647811a353c7ac498a",
         "3504c0cb71d7fa48d967e0e4c94d59d9",
         "2017-10-06 11:07:15",
         "29.99",
         "8.72",
         "3.0",
         "voucher",
         "1.0",
         "2.0",
         "500.0",
         "19.0",
         "8.0",
         "13.0",
         "a54f0611adc9ed256b57ede6b6eb5114",
         "4.0",
         "2017-10-11 00:00:00",
         "2017-10-12 03:43:48",
         "9350.0",
         "maua",
         "SP",
         "housewares"
        ],
        [
         "2",
         "e481f51cbdc54678b7cc49136f2d6af7",
         "9ef432eb6251297304e76186b10a928d",
         "delivered",
         "2017-10-02 10:56:33",
         "2017-10-02 11:07:15",
         "2017-10-04 19:55:00",
         "2017-10-10 21:25:13",
         "2017-10-18 00:00:00",
         "87285b34884572647811a353c7ac498a",
         "3504c0cb71d7fa48d967e0e4c94d59d9",
         "2017-10-06 11:07:15",
         "29.99",
         "8.72",
         "2.0",
         "voucher",
         "1.0",
         "18.59",
         "500.0",
         "19.0",
         "8.0",
         "13.0",
         "a54f0611adc9ed256b57ede6b6eb5114",
         "4.0",
         "2017-10-11 00:00:00",
         "2017-10-12 03:43:48",
         "9350.0",
         "maua",
         "SP",
         "housewares"
        ],
        [
         "3",
         "53cdb2fc8bc7dce0b6741e2150273451",
         "b0830fb4747a6c6d20dea0b8c802d7ef",
         "delivered",
         "2018-07-24 20:41:37",
         "2018-07-26 03:24:27",
         "2018-07-26 14:31:00",
         "2018-08-07 15:27:45",
         "2018-08-13 00:00:00",
         "595fac2a385ac33a80bd5114aec74eb8",
         "289cdb325fb7e7f891c38608bf9e0962",
         "2018-07-30 03:24:27",
         "118.7",
         "22.76",
         "1.0",
         "boleto",
         "1.0",
         "141.46",
         "400.0",
         "19.0",
         "13.0",
         "19.0",
         "8d5266042046a06655c8db133d120ba5",
         "4.0",
         "2018-08-08 00:00:00",
         "2018-08-08 18:37:50",
         "31570.0",
         "belo horizonte",
         "SP",
         "perfumery"
        ],
        [
         "4",
         "47770eb9100c2d0c44946d9cf07ec65d",
         "41ce2a54c0b03bf3443c3d931a367089",
         "delivered",
         "2018-08-08 08:38:49",
         "2018-08-08 08:55:23",
         "2018-08-08 13:50:00",
         "2018-08-17 18:06:29",
         "2018-09-04 00:00:00",
         "aa4383b373c6aca5d8797843e5594415",
         "4869f7a5dfa277a7dca6462dcf3b52b2",
         "2018-08-13 08:55:23",
         "159.9",
         "19.22",
         "1.0",
         "credit_card",
         "3.0",
         "179.12",
         "420.0",
         "24.0",
         "19.0",
         "21.0",
         "e73b67b67587f7644d5bd1a52deb1b01",
         "5.0",
         "2018-08-18 00:00:00",
         "2018-08-22 19:07:58",
         "14840.0",
         "guariba",
         "SP",
         "auto"
        ]
       ],
       "shape": {
        "columns": 29,
        "rows": 5
       }
      },
      "text/html": [
       "<div>\n",
       "<style scoped>\n",
       "    .dataframe tbody tr th:only-of-type {\n",
       "        vertical-align: middle;\n",
       "    }\n",
       "\n",
       "    .dataframe tbody tr th {\n",
       "        vertical-align: top;\n",
       "    }\n",
       "\n",
       "    .dataframe thead th {\n",
       "        text-align: right;\n",
       "    }\n",
       "</style>\n",
       "<table border=\"1\" class=\"dataframe\">\n",
       "  <thead>\n",
       "    <tr style=\"text-align: right;\">\n",
       "      <th></th>\n",
       "      <th>order_id</th>\n",
       "      <th>customer_id</th>\n",
       "      <th>order_status</th>\n",
       "      <th>order_purchase_timestamp</th>\n",
       "      <th>order_approved_at</th>\n",
       "      <th>order_delivered_carrier_date</th>\n",
       "      <th>order_delivered_customer_date</th>\n",
       "      <th>order_estimated_delivery_date</th>\n",
       "      <th>product_id</th>\n",
       "      <th>seller_id</th>\n",
       "      <th>...</th>\n",
       "      <th>product_height_cm</th>\n",
       "      <th>product_width_cm</th>\n",
       "      <th>review_id</th>\n",
       "      <th>review_score</th>\n",
       "      <th>review_creation_date</th>\n",
       "      <th>review_answer_timestamp</th>\n",
       "      <th>seller_zip_code_prefix</th>\n",
       "      <th>seller_city</th>\n",
       "      <th>seller_state</th>\n",
       "      <th>product_category_name_english</th>\n",
       "    </tr>\n",
       "  </thead>\n",
       "  <tbody>\n",
       "    <tr>\n",
       "      <th>0</th>\n",
       "      <td>e481f51cbdc54678b7cc49136f2d6af7</td>\n",
       "      <td>9ef432eb6251297304e76186b10a928d</td>\n",
       "      <td>delivered</td>\n",
       "      <td>2017-10-02 10:56:33</td>\n",
       "      <td>2017-10-02 11:07:15</td>\n",
       "      <td>2017-10-04 19:55:00</td>\n",
       "      <td>2017-10-10 21:25:13</td>\n",
       "      <td>2017-10-18 00:00:00</td>\n",
       "      <td>87285b34884572647811a353c7ac498a</td>\n",
       "      <td>3504c0cb71d7fa48d967e0e4c94d59d9</td>\n",
       "      <td>...</td>\n",
       "      <td>8.0</td>\n",
       "      <td>13.0</td>\n",
       "      <td>a54f0611adc9ed256b57ede6b6eb5114</td>\n",
       "      <td>4.0</td>\n",
       "      <td>2017-10-11 00:00:00</td>\n",
       "      <td>2017-10-12 03:43:48</td>\n",
       "      <td>9350.0</td>\n",
       "      <td>maua</td>\n",
       "      <td>SP</td>\n",
       "      <td>housewares</td>\n",
       "    </tr>\n",
       "    <tr>\n",
       "      <th>1</th>\n",
       "      <td>e481f51cbdc54678b7cc49136f2d6af7</td>\n",
       "      <td>9ef432eb6251297304e76186b10a928d</td>\n",
       "      <td>delivered</td>\n",
       "      <td>2017-10-02 10:56:33</td>\n",
       "      <td>2017-10-02 11:07:15</td>\n",
       "      <td>2017-10-04 19:55:00</td>\n",
       "      <td>2017-10-10 21:25:13</td>\n",
       "      <td>2017-10-18 00:00:00</td>\n",
       "      <td>87285b34884572647811a353c7ac498a</td>\n",
       "      <td>3504c0cb71d7fa48d967e0e4c94d59d9</td>\n",
       "      <td>...</td>\n",
       "      <td>8.0</td>\n",
       "      <td>13.0</td>\n",
       "      <td>a54f0611adc9ed256b57ede6b6eb5114</td>\n",
       "      <td>4.0</td>\n",
       "      <td>2017-10-11 00:00:00</td>\n",
       "      <td>2017-10-12 03:43:48</td>\n",
       "      <td>9350.0</td>\n",
       "      <td>maua</td>\n",
       "      <td>SP</td>\n",
       "      <td>housewares</td>\n",
       "    </tr>\n",
       "    <tr>\n",
       "      <th>2</th>\n",
       "      <td>e481f51cbdc54678b7cc49136f2d6af7</td>\n",
       "      <td>9ef432eb6251297304e76186b10a928d</td>\n",
       "      <td>delivered</td>\n",
       "      <td>2017-10-02 10:56:33</td>\n",
       "      <td>2017-10-02 11:07:15</td>\n",
       "      <td>2017-10-04 19:55:00</td>\n",
       "      <td>2017-10-10 21:25:13</td>\n",
       "      <td>2017-10-18 00:00:00</td>\n",
       "      <td>87285b34884572647811a353c7ac498a</td>\n",
       "      <td>3504c0cb71d7fa48d967e0e4c94d59d9</td>\n",
       "      <td>...</td>\n",
       "      <td>8.0</td>\n",
       "      <td>13.0</td>\n",
       "      <td>a54f0611adc9ed256b57ede6b6eb5114</td>\n",
       "      <td>4.0</td>\n",
       "      <td>2017-10-11 00:00:00</td>\n",
       "      <td>2017-10-12 03:43:48</td>\n",
       "      <td>9350.0</td>\n",
       "      <td>maua</td>\n",
       "      <td>SP</td>\n",
       "      <td>housewares</td>\n",
       "    </tr>\n",
       "    <tr>\n",
       "      <th>3</th>\n",
       "      <td>53cdb2fc8bc7dce0b6741e2150273451</td>\n",
       "      <td>b0830fb4747a6c6d20dea0b8c802d7ef</td>\n",
       "      <td>delivered</td>\n",
       "      <td>2018-07-24 20:41:37</td>\n",
       "      <td>2018-07-26 03:24:27</td>\n",
       "      <td>2018-07-26 14:31:00</td>\n",
       "      <td>2018-08-07 15:27:45</td>\n",
       "      <td>2018-08-13 00:00:00</td>\n",
       "      <td>595fac2a385ac33a80bd5114aec74eb8</td>\n",
       "      <td>289cdb325fb7e7f891c38608bf9e0962</td>\n",
       "      <td>...</td>\n",
       "      <td>13.0</td>\n",
       "      <td>19.0</td>\n",
       "      <td>8d5266042046a06655c8db133d120ba5</td>\n",
       "      <td>4.0</td>\n",
       "      <td>2018-08-08 00:00:00</td>\n",
       "      <td>2018-08-08 18:37:50</td>\n",
       "      <td>31570.0</td>\n",
       "      <td>belo horizonte</td>\n",
       "      <td>SP</td>\n",
       "      <td>perfumery</td>\n",
       "    </tr>\n",
       "    <tr>\n",
       "      <th>4</th>\n",
       "      <td>47770eb9100c2d0c44946d9cf07ec65d</td>\n",
       "      <td>41ce2a54c0b03bf3443c3d931a367089</td>\n",
       "      <td>delivered</td>\n",
       "      <td>2018-08-08 08:38:49</td>\n",
       "      <td>2018-08-08 08:55:23</td>\n",
       "      <td>2018-08-08 13:50:00</td>\n",
       "      <td>2018-08-17 18:06:29</td>\n",
       "      <td>2018-09-04 00:00:00</td>\n",
       "      <td>aa4383b373c6aca5d8797843e5594415</td>\n",
       "      <td>4869f7a5dfa277a7dca6462dcf3b52b2</td>\n",
       "      <td>...</td>\n",
       "      <td>19.0</td>\n",
       "      <td>21.0</td>\n",
       "      <td>e73b67b67587f7644d5bd1a52deb1b01</td>\n",
       "      <td>5.0</td>\n",
       "      <td>2018-08-18 00:00:00</td>\n",
       "      <td>2018-08-22 19:07:58</td>\n",
       "      <td>14840.0</td>\n",
       "      <td>guariba</td>\n",
       "      <td>SP</td>\n",
       "      <td>auto</td>\n",
       "    </tr>\n",
       "  </tbody>\n",
       "</table>\n",
       "<p>5 rows × 29 columns</p>\n",
       "</div>"
      ],
      "text/plain": [
       "                           order_id                       customer_id  \\\n",
       "0  e481f51cbdc54678b7cc49136f2d6af7  9ef432eb6251297304e76186b10a928d   \n",
       "1  e481f51cbdc54678b7cc49136f2d6af7  9ef432eb6251297304e76186b10a928d   \n",
       "2  e481f51cbdc54678b7cc49136f2d6af7  9ef432eb6251297304e76186b10a928d   \n",
       "3  53cdb2fc8bc7dce0b6741e2150273451  b0830fb4747a6c6d20dea0b8c802d7ef   \n",
       "4  47770eb9100c2d0c44946d9cf07ec65d  41ce2a54c0b03bf3443c3d931a367089   \n",
       "\n",
       "  order_status order_purchase_timestamp    order_approved_at  \\\n",
       "0    delivered      2017-10-02 10:56:33  2017-10-02 11:07:15   \n",
       "1    delivered      2017-10-02 10:56:33  2017-10-02 11:07:15   \n",
       "2    delivered      2017-10-02 10:56:33  2017-10-02 11:07:15   \n",
       "3    delivered      2018-07-24 20:41:37  2018-07-26 03:24:27   \n",
       "4    delivered      2018-08-08 08:38:49  2018-08-08 08:55:23   \n",
       "\n",
       "  order_delivered_carrier_date order_delivered_customer_date  \\\n",
       "0          2017-10-04 19:55:00           2017-10-10 21:25:13   \n",
       "1          2017-10-04 19:55:00           2017-10-10 21:25:13   \n",
       "2          2017-10-04 19:55:00           2017-10-10 21:25:13   \n",
       "3          2018-07-26 14:31:00           2018-08-07 15:27:45   \n",
       "4          2018-08-08 13:50:00           2018-08-17 18:06:29   \n",
       "\n",
       "  order_estimated_delivery_date                        product_id  \\\n",
       "0           2017-10-18 00:00:00  87285b34884572647811a353c7ac498a   \n",
       "1           2017-10-18 00:00:00  87285b34884572647811a353c7ac498a   \n",
       "2           2017-10-18 00:00:00  87285b34884572647811a353c7ac498a   \n",
       "3           2018-08-13 00:00:00  595fac2a385ac33a80bd5114aec74eb8   \n",
       "4           2018-09-04 00:00:00  aa4383b373c6aca5d8797843e5594415   \n",
       "\n",
       "                          seller_id  ... product_height_cm  product_width_cm  \\\n",
       "0  3504c0cb71d7fa48d967e0e4c94d59d9  ...               8.0              13.0   \n",
       "1  3504c0cb71d7fa48d967e0e4c94d59d9  ...               8.0              13.0   \n",
       "2  3504c0cb71d7fa48d967e0e4c94d59d9  ...               8.0              13.0   \n",
       "3  289cdb325fb7e7f891c38608bf9e0962  ...              13.0              19.0   \n",
       "4  4869f7a5dfa277a7dca6462dcf3b52b2  ...              19.0              21.0   \n",
       "\n",
       "                          review_id  review_score review_creation_date  \\\n",
       "0  a54f0611adc9ed256b57ede6b6eb5114           4.0  2017-10-11 00:00:00   \n",
       "1  a54f0611adc9ed256b57ede6b6eb5114           4.0  2017-10-11 00:00:00   \n",
       "2  a54f0611adc9ed256b57ede6b6eb5114           4.0  2017-10-11 00:00:00   \n",
       "3  8d5266042046a06655c8db133d120ba5           4.0  2018-08-08 00:00:00   \n",
       "4  e73b67b67587f7644d5bd1a52deb1b01           5.0  2018-08-18 00:00:00   \n",
       "\n",
       "   review_answer_timestamp  seller_zip_code_prefix     seller_city  \\\n",
       "0      2017-10-12 03:43:48                  9350.0            maua   \n",
       "1      2017-10-12 03:43:48                  9350.0            maua   \n",
       "2      2017-10-12 03:43:48                  9350.0            maua   \n",
       "3      2018-08-08 18:37:50                 31570.0  belo horizonte   \n",
       "4      2018-08-22 19:07:58                 14840.0         guariba   \n",
       "\n",
       "   seller_state  product_category_name_english  \n",
       "0            SP                     housewares  \n",
       "1            SP                     housewares  \n",
       "2            SP                     housewares  \n",
       "3            SP                      perfumery  \n",
       "4            SP                           auto  \n",
       "\n",
       "[5 rows x 29 columns]"
      ]
     },
     "execution_count": 12,
     "metadata": {},
     "output_type": "execute_result"
    }
   ],
   "source": [
    "data.head()"
   ]
  },
  {
   "cell_type": "markdown",
   "metadata": {},
   "source": [
    "# Data Cleaning"
   ]
  },
  {
   "cell_type": "code",
   "execution_count": 13,
   "metadata": {},
   "outputs": [],
   "source": [
    "# Renaming columns\n",
    "data.rename(columns={'review_id_x':'Review_id', 'review_score_x':'Review_score', 'review_creation_date_x':'Review_creation_date', 'review_answer_timestamp_x':'Review_answer_timestamp', 'product_category_name_english_x':'Product_Category_name','product_weight_g':'product_weight(g)','product_length_cm':'product_length(cm)','product_height_cm':'product_height(cm)','product_width_cm':'product_width(cm)', 'order_approved_at':'order_approved_time', 'product_category_name_english': 'product_category'}, inplace=True)"
   ]
  },
  {
   "cell_type": "code",
   "execution_count": 14,
   "metadata": {},
   "outputs": [
    {
     "data": {
      "application/vnd.microsoft.datawrangler.viewer.v0+json": {
       "columns": [
        {
         "name": "index",
         "rawType": "int64",
         "type": "integer"
        },
        {
         "name": "order_id",
         "rawType": "object",
         "type": "string"
        },
        {
         "name": "customer_id",
         "rawType": "object",
         "type": "string"
        },
        {
         "name": "order_status",
         "rawType": "object",
         "type": "string"
        },
        {
         "name": "order_purchase_timestamp",
         "rawType": "object",
         "type": "string"
        },
        {
         "name": "order_approved_time",
         "rawType": "object",
         "type": "string"
        },
        {
         "name": "order_delivered_carrier_date",
         "rawType": "object",
         "type": "string"
        },
        {
         "name": "order_delivered_customer_date",
         "rawType": "object",
         "type": "string"
        },
        {
         "name": "order_estimated_delivery_date",
         "rawType": "object",
         "type": "string"
        },
        {
         "name": "product_id",
         "rawType": "object",
         "type": "string"
        },
        {
         "name": "seller_id",
         "rawType": "object",
         "type": "string"
        },
        {
         "name": "shipping_limit_date",
         "rawType": "object",
         "type": "string"
        },
        {
         "name": "price",
         "rawType": "float64",
         "type": "float"
        },
        {
         "name": "freight_value",
         "rawType": "float64",
         "type": "float"
        },
        {
         "name": "payment_sequential",
         "rawType": "float64",
         "type": "float"
        },
        {
         "name": "payment_type",
         "rawType": "object",
         "type": "string"
        },
        {
         "name": "payment_installments",
         "rawType": "float64",
         "type": "float"
        },
        {
         "name": "payment_value",
         "rawType": "float64",
         "type": "float"
        },
        {
         "name": "product_weight(g)",
         "rawType": "float64",
         "type": "float"
        },
        {
         "name": "product_length(cm)",
         "rawType": "float64",
         "type": "float"
        },
        {
         "name": "product_height(cm)",
         "rawType": "float64",
         "type": "float"
        },
        {
         "name": "product_width(cm)",
         "rawType": "float64",
         "type": "float"
        },
        {
         "name": "review_id",
         "rawType": "object",
         "type": "string"
        },
        {
         "name": "review_score",
         "rawType": "float64",
         "type": "float"
        },
        {
         "name": "review_creation_date",
         "rawType": "object",
         "type": "string"
        },
        {
         "name": "review_answer_timestamp",
         "rawType": "object",
         "type": "string"
        },
        {
         "name": "seller_zip_code_prefix",
         "rawType": "float64",
         "type": "float"
        },
        {
         "name": "seller_city",
         "rawType": "object",
         "type": "string"
        },
        {
         "name": "seller_state",
         "rawType": "object",
         "type": "string"
        },
        {
         "name": "product_category",
         "rawType": "object",
         "type": "string"
        }
       ],
       "conversionMethod": "pd.DataFrame",
       "ref": "4507067b-0576-41cd-b227-a8dbce0cf787",
       "rows": [
        [
         "0",
         "e481f51cbdc54678b7cc49136f2d6af7",
         "9ef432eb6251297304e76186b10a928d",
         "delivered",
         "2017-10-02 10:56:33",
         "2017-10-02 11:07:15",
         "2017-10-04 19:55:00",
         "2017-10-10 21:25:13",
         "2017-10-18 00:00:00",
         "87285b34884572647811a353c7ac498a",
         "3504c0cb71d7fa48d967e0e4c94d59d9",
         "2017-10-06 11:07:15",
         "29.99",
         "8.72",
         "1.0",
         "credit_card",
         "1.0",
         "18.12",
         "500.0",
         "19.0",
         "8.0",
         "13.0",
         "a54f0611adc9ed256b57ede6b6eb5114",
         "4.0",
         "2017-10-11 00:00:00",
         "2017-10-12 03:43:48",
         "9350.0",
         "maua",
         "SP",
         "housewares"
        ],
        [
         "1",
         "e481f51cbdc54678b7cc49136f2d6af7",
         "9ef432eb6251297304e76186b10a928d",
         "delivered",
         "2017-10-02 10:56:33",
         "2017-10-02 11:07:15",
         "2017-10-04 19:55:00",
         "2017-10-10 21:25:13",
         "2017-10-18 00:00:00",
         "87285b34884572647811a353c7ac498a",
         "3504c0cb71d7fa48d967e0e4c94d59d9",
         "2017-10-06 11:07:15",
         "29.99",
         "8.72",
         "3.0",
         "voucher",
         "1.0",
         "2.0",
         "500.0",
         "19.0",
         "8.0",
         "13.0",
         "a54f0611adc9ed256b57ede6b6eb5114",
         "4.0",
         "2017-10-11 00:00:00",
         "2017-10-12 03:43:48",
         "9350.0",
         "maua",
         "SP",
         "housewares"
        ],
        [
         "2",
         "e481f51cbdc54678b7cc49136f2d6af7",
         "9ef432eb6251297304e76186b10a928d",
         "delivered",
         "2017-10-02 10:56:33",
         "2017-10-02 11:07:15",
         "2017-10-04 19:55:00",
         "2017-10-10 21:25:13",
         "2017-10-18 00:00:00",
         "87285b34884572647811a353c7ac498a",
         "3504c0cb71d7fa48d967e0e4c94d59d9",
         "2017-10-06 11:07:15",
         "29.99",
         "8.72",
         "2.0",
         "voucher",
         "1.0",
         "18.59",
         "500.0",
         "19.0",
         "8.0",
         "13.0",
         "a54f0611adc9ed256b57ede6b6eb5114",
         "4.0",
         "2017-10-11 00:00:00",
         "2017-10-12 03:43:48",
         "9350.0",
         "maua",
         "SP",
         "housewares"
        ],
        [
         "3",
         "53cdb2fc8bc7dce0b6741e2150273451",
         "b0830fb4747a6c6d20dea0b8c802d7ef",
         "delivered",
         "2018-07-24 20:41:37",
         "2018-07-26 03:24:27",
         "2018-07-26 14:31:00",
         "2018-08-07 15:27:45",
         "2018-08-13 00:00:00",
         "595fac2a385ac33a80bd5114aec74eb8",
         "289cdb325fb7e7f891c38608bf9e0962",
         "2018-07-30 03:24:27",
         "118.7",
         "22.76",
         "1.0",
         "boleto",
         "1.0",
         "141.46",
         "400.0",
         "19.0",
         "13.0",
         "19.0",
         "8d5266042046a06655c8db133d120ba5",
         "4.0",
         "2018-08-08 00:00:00",
         "2018-08-08 18:37:50",
         "31570.0",
         "belo horizonte",
         "SP",
         "perfumery"
        ],
        [
         "4",
         "47770eb9100c2d0c44946d9cf07ec65d",
         "41ce2a54c0b03bf3443c3d931a367089",
         "delivered",
         "2018-08-08 08:38:49",
         "2018-08-08 08:55:23",
         "2018-08-08 13:50:00",
         "2018-08-17 18:06:29",
         "2018-09-04 00:00:00",
         "aa4383b373c6aca5d8797843e5594415",
         "4869f7a5dfa277a7dca6462dcf3b52b2",
         "2018-08-13 08:55:23",
         "159.9",
         "19.22",
         "1.0",
         "credit_card",
         "3.0",
         "179.12",
         "420.0",
         "24.0",
         "19.0",
         "21.0",
         "e73b67b67587f7644d5bd1a52deb1b01",
         "5.0",
         "2018-08-18 00:00:00",
         "2018-08-22 19:07:58",
         "14840.0",
         "guariba",
         "SP",
         "auto"
        ]
       ],
       "shape": {
        "columns": 29,
        "rows": 5
       }
      },
      "text/html": [
       "<div>\n",
       "<style scoped>\n",
       "    .dataframe tbody tr th:only-of-type {\n",
       "        vertical-align: middle;\n",
       "    }\n",
       "\n",
       "    .dataframe tbody tr th {\n",
       "        vertical-align: top;\n",
       "    }\n",
       "\n",
       "    .dataframe thead th {\n",
       "        text-align: right;\n",
       "    }\n",
       "</style>\n",
       "<table border=\"1\" class=\"dataframe\">\n",
       "  <thead>\n",
       "    <tr style=\"text-align: right;\">\n",
       "      <th></th>\n",
       "      <th>order_id</th>\n",
       "      <th>customer_id</th>\n",
       "      <th>order_status</th>\n",
       "      <th>order_purchase_timestamp</th>\n",
       "      <th>order_approved_time</th>\n",
       "      <th>order_delivered_carrier_date</th>\n",
       "      <th>order_delivered_customer_date</th>\n",
       "      <th>order_estimated_delivery_date</th>\n",
       "      <th>product_id</th>\n",
       "      <th>seller_id</th>\n",
       "      <th>...</th>\n",
       "      <th>product_height(cm)</th>\n",
       "      <th>product_width(cm)</th>\n",
       "      <th>review_id</th>\n",
       "      <th>review_score</th>\n",
       "      <th>review_creation_date</th>\n",
       "      <th>review_answer_timestamp</th>\n",
       "      <th>seller_zip_code_prefix</th>\n",
       "      <th>seller_city</th>\n",
       "      <th>seller_state</th>\n",
       "      <th>product_category</th>\n",
       "    </tr>\n",
       "  </thead>\n",
       "  <tbody>\n",
       "    <tr>\n",
       "      <th>0</th>\n",
       "      <td>e481f51cbdc54678b7cc49136f2d6af7</td>\n",
       "      <td>9ef432eb6251297304e76186b10a928d</td>\n",
       "      <td>delivered</td>\n",
       "      <td>2017-10-02 10:56:33</td>\n",
       "      <td>2017-10-02 11:07:15</td>\n",
       "      <td>2017-10-04 19:55:00</td>\n",
       "      <td>2017-10-10 21:25:13</td>\n",
       "      <td>2017-10-18 00:00:00</td>\n",
       "      <td>87285b34884572647811a353c7ac498a</td>\n",
       "      <td>3504c0cb71d7fa48d967e0e4c94d59d9</td>\n",
       "      <td>...</td>\n",
       "      <td>8.0</td>\n",
       "      <td>13.0</td>\n",
       "      <td>a54f0611adc9ed256b57ede6b6eb5114</td>\n",
       "      <td>4.0</td>\n",
       "      <td>2017-10-11 00:00:00</td>\n",
       "      <td>2017-10-12 03:43:48</td>\n",
       "      <td>9350.0</td>\n",
       "      <td>maua</td>\n",
       "      <td>SP</td>\n",
       "      <td>housewares</td>\n",
       "    </tr>\n",
       "    <tr>\n",
       "      <th>1</th>\n",
       "      <td>e481f51cbdc54678b7cc49136f2d6af7</td>\n",
       "      <td>9ef432eb6251297304e76186b10a928d</td>\n",
       "      <td>delivered</td>\n",
       "      <td>2017-10-02 10:56:33</td>\n",
       "      <td>2017-10-02 11:07:15</td>\n",
       "      <td>2017-10-04 19:55:00</td>\n",
       "      <td>2017-10-10 21:25:13</td>\n",
       "      <td>2017-10-18 00:00:00</td>\n",
       "      <td>87285b34884572647811a353c7ac498a</td>\n",
       "      <td>3504c0cb71d7fa48d967e0e4c94d59d9</td>\n",
       "      <td>...</td>\n",
       "      <td>8.0</td>\n",
       "      <td>13.0</td>\n",
       "      <td>a54f0611adc9ed256b57ede6b6eb5114</td>\n",
       "      <td>4.0</td>\n",
       "      <td>2017-10-11 00:00:00</td>\n",
       "      <td>2017-10-12 03:43:48</td>\n",
       "      <td>9350.0</td>\n",
       "      <td>maua</td>\n",
       "      <td>SP</td>\n",
       "      <td>housewares</td>\n",
       "    </tr>\n",
       "    <tr>\n",
       "      <th>2</th>\n",
       "      <td>e481f51cbdc54678b7cc49136f2d6af7</td>\n",
       "      <td>9ef432eb6251297304e76186b10a928d</td>\n",
       "      <td>delivered</td>\n",
       "      <td>2017-10-02 10:56:33</td>\n",
       "      <td>2017-10-02 11:07:15</td>\n",
       "      <td>2017-10-04 19:55:00</td>\n",
       "      <td>2017-10-10 21:25:13</td>\n",
       "      <td>2017-10-18 00:00:00</td>\n",
       "      <td>87285b34884572647811a353c7ac498a</td>\n",
       "      <td>3504c0cb71d7fa48d967e0e4c94d59d9</td>\n",
       "      <td>...</td>\n",
       "      <td>8.0</td>\n",
       "      <td>13.0</td>\n",
       "      <td>a54f0611adc9ed256b57ede6b6eb5114</td>\n",
       "      <td>4.0</td>\n",
       "      <td>2017-10-11 00:00:00</td>\n",
       "      <td>2017-10-12 03:43:48</td>\n",
       "      <td>9350.0</td>\n",
       "      <td>maua</td>\n",
       "      <td>SP</td>\n",
       "      <td>housewares</td>\n",
       "    </tr>\n",
       "    <tr>\n",
       "      <th>3</th>\n",
       "      <td>53cdb2fc8bc7dce0b6741e2150273451</td>\n",
       "      <td>b0830fb4747a6c6d20dea0b8c802d7ef</td>\n",
       "      <td>delivered</td>\n",
       "      <td>2018-07-24 20:41:37</td>\n",
       "      <td>2018-07-26 03:24:27</td>\n",
       "      <td>2018-07-26 14:31:00</td>\n",
       "      <td>2018-08-07 15:27:45</td>\n",
       "      <td>2018-08-13 00:00:00</td>\n",
       "      <td>595fac2a385ac33a80bd5114aec74eb8</td>\n",
       "      <td>289cdb325fb7e7f891c38608bf9e0962</td>\n",
       "      <td>...</td>\n",
       "      <td>13.0</td>\n",
       "      <td>19.0</td>\n",
       "      <td>8d5266042046a06655c8db133d120ba5</td>\n",
       "      <td>4.0</td>\n",
       "      <td>2018-08-08 00:00:00</td>\n",
       "      <td>2018-08-08 18:37:50</td>\n",
       "      <td>31570.0</td>\n",
       "      <td>belo horizonte</td>\n",
       "      <td>SP</td>\n",
       "      <td>perfumery</td>\n",
       "    </tr>\n",
       "    <tr>\n",
       "      <th>4</th>\n",
       "      <td>47770eb9100c2d0c44946d9cf07ec65d</td>\n",
       "      <td>41ce2a54c0b03bf3443c3d931a367089</td>\n",
       "      <td>delivered</td>\n",
       "      <td>2018-08-08 08:38:49</td>\n",
       "      <td>2018-08-08 08:55:23</td>\n",
       "      <td>2018-08-08 13:50:00</td>\n",
       "      <td>2018-08-17 18:06:29</td>\n",
       "      <td>2018-09-04 00:00:00</td>\n",
       "      <td>aa4383b373c6aca5d8797843e5594415</td>\n",
       "      <td>4869f7a5dfa277a7dca6462dcf3b52b2</td>\n",
       "      <td>...</td>\n",
       "      <td>19.0</td>\n",
       "      <td>21.0</td>\n",
       "      <td>e73b67b67587f7644d5bd1a52deb1b01</td>\n",
       "      <td>5.0</td>\n",
       "      <td>2018-08-18 00:00:00</td>\n",
       "      <td>2018-08-22 19:07:58</td>\n",
       "      <td>14840.0</td>\n",
       "      <td>guariba</td>\n",
       "      <td>SP</td>\n",
       "      <td>auto</td>\n",
       "    </tr>\n",
       "  </tbody>\n",
       "</table>\n",
       "<p>5 rows × 29 columns</p>\n",
       "</div>"
      ],
      "text/plain": [
       "                           order_id                       customer_id  \\\n",
       "0  e481f51cbdc54678b7cc49136f2d6af7  9ef432eb6251297304e76186b10a928d   \n",
       "1  e481f51cbdc54678b7cc49136f2d6af7  9ef432eb6251297304e76186b10a928d   \n",
       "2  e481f51cbdc54678b7cc49136f2d6af7  9ef432eb6251297304e76186b10a928d   \n",
       "3  53cdb2fc8bc7dce0b6741e2150273451  b0830fb4747a6c6d20dea0b8c802d7ef   \n",
       "4  47770eb9100c2d0c44946d9cf07ec65d  41ce2a54c0b03bf3443c3d931a367089   \n",
       "\n",
       "  order_status order_purchase_timestamp  order_approved_time  \\\n",
       "0    delivered      2017-10-02 10:56:33  2017-10-02 11:07:15   \n",
       "1    delivered      2017-10-02 10:56:33  2017-10-02 11:07:15   \n",
       "2    delivered      2017-10-02 10:56:33  2017-10-02 11:07:15   \n",
       "3    delivered      2018-07-24 20:41:37  2018-07-26 03:24:27   \n",
       "4    delivered      2018-08-08 08:38:49  2018-08-08 08:55:23   \n",
       "\n",
       "  order_delivered_carrier_date order_delivered_customer_date  \\\n",
       "0          2017-10-04 19:55:00           2017-10-10 21:25:13   \n",
       "1          2017-10-04 19:55:00           2017-10-10 21:25:13   \n",
       "2          2017-10-04 19:55:00           2017-10-10 21:25:13   \n",
       "3          2018-07-26 14:31:00           2018-08-07 15:27:45   \n",
       "4          2018-08-08 13:50:00           2018-08-17 18:06:29   \n",
       "\n",
       "  order_estimated_delivery_date                        product_id  \\\n",
       "0           2017-10-18 00:00:00  87285b34884572647811a353c7ac498a   \n",
       "1           2017-10-18 00:00:00  87285b34884572647811a353c7ac498a   \n",
       "2           2017-10-18 00:00:00  87285b34884572647811a353c7ac498a   \n",
       "3           2018-08-13 00:00:00  595fac2a385ac33a80bd5114aec74eb8   \n",
       "4           2018-09-04 00:00:00  aa4383b373c6aca5d8797843e5594415   \n",
       "\n",
       "                          seller_id  ... product_height(cm)  \\\n",
       "0  3504c0cb71d7fa48d967e0e4c94d59d9  ...                8.0   \n",
       "1  3504c0cb71d7fa48d967e0e4c94d59d9  ...                8.0   \n",
       "2  3504c0cb71d7fa48d967e0e4c94d59d9  ...                8.0   \n",
       "3  289cdb325fb7e7f891c38608bf9e0962  ...               13.0   \n",
       "4  4869f7a5dfa277a7dca6462dcf3b52b2  ...               19.0   \n",
       "\n",
       "   product_width(cm)                         review_id  review_score  \\\n",
       "0               13.0  a54f0611adc9ed256b57ede6b6eb5114           4.0   \n",
       "1               13.0  a54f0611adc9ed256b57ede6b6eb5114           4.0   \n",
       "2               13.0  a54f0611adc9ed256b57ede6b6eb5114           4.0   \n",
       "3               19.0  8d5266042046a06655c8db133d120ba5           4.0   \n",
       "4               21.0  e73b67b67587f7644d5bd1a52deb1b01           5.0   \n",
       "\n",
       "  review_creation_date  review_answer_timestamp  seller_zip_code_prefix  \\\n",
       "0  2017-10-11 00:00:00      2017-10-12 03:43:48                  9350.0   \n",
       "1  2017-10-11 00:00:00      2017-10-12 03:43:48                  9350.0   \n",
       "2  2017-10-11 00:00:00      2017-10-12 03:43:48                  9350.0   \n",
       "3  2018-08-08 00:00:00      2018-08-08 18:37:50                 31570.0   \n",
       "4  2018-08-18 00:00:00      2018-08-22 19:07:58                 14840.0   \n",
       "\n",
       "      seller_city  seller_state  product_category  \n",
       "0            maua            SP        housewares  \n",
       "1            maua            SP        housewares  \n",
       "2            maua            SP        housewares  \n",
       "3  belo horizonte            SP         perfumery  \n",
       "4         guariba            SP              auto  \n",
       "\n",
       "[5 rows x 29 columns]"
      ]
     },
     "execution_count": 14,
     "metadata": {},
     "output_type": "execute_result"
    }
   ],
   "source": [
    "data.head()"
   ]
  },
  {
   "cell_type": "code",
   "execution_count": 15,
   "metadata": {},
   "outputs": [
    {
     "name": "stdout",
     "output_type": "stream",
     "text": [
      "<class 'pandas.core.frame.DataFrame'>\n",
      "RangeIndex: 119143 entries, 0 to 119142\n",
      "Data columns (total 29 columns):\n",
      " #   Column                         Non-Null Count   Dtype  \n",
      "---  ------                         --------------   -----  \n",
      " 0   order_id                       119143 non-null  object \n",
      " 1   customer_id                    119143 non-null  object \n",
      " 2   order_status                   119143 non-null  object \n",
      " 3   order_purchase_timestamp       119143 non-null  object \n",
      " 4   order_approved_time            118966 non-null  object \n",
      " 5   order_delivered_carrier_date   117057 non-null  object \n",
      " 6   order_delivered_customer_date  115722 non-null  object \n",
      " 7   order_estimated_delivery_date  119143 non-null  object \n",
      " 8   product_id                     118310 non-null  object \n",
      " 9   seller_id                      118310 non-null  object \n",
      " 10  shipping_limit_date            118310 non-null  object \n",
      " 11  price                          118310 non-null  float64\n",
      " 12  freight_value                  118310 non-null  float64\n",
      " 13  payment_sequential             119140 non-null  float64\n",
      " 14  payment_type                   119140 non-null  object \n",
      " 15  payment_installments           119140 non-null  float64\n",
      " 16  payment_value                  119140 non-null  float64\n",
      " 17  product_weight(g)              118290 non-null  float64\n",
      " 18  product_length(cm)             118290 non-null  float64\n",
      " 19  product_height(cm)             118290 non-null  float64\n",
      " 20  product_width(cm)              118290 non-null  float64\n",
      " 21  review_id                      118146 non-null  object \n",
      " 22  review_score                   118146 non-null  float64\n",
      " 23  review_creation_date           118146 non-null  object \n",
      " 24  review_answer_timestamp        118146 non-null  object \n",
      " 25  seller_zip_code_prefix         118310 non-null  float64\n",
      " 26  seller_city                    118310 non-null  object \n",
      " 27  seller_state                   118310 non-null  object \n",
      " 28  product_category               116576 non-null  object \n",
      "dtypes: float64(11), object(18)\n",
      "memory usage: 26.4+ MB\n"
     ]
    }
   ],
   "source": [
    "data.info()"
   ]
  },
  {
   "cell_type": "code",
   "execution_count": 16,
   "metadata": {},
   "outputs": [
    {
     "data": {
      "text/plain": [
       "order_id                            0\n",
       "customer_id                         0\n",
       "order_status                        0\n",
       "order_purchase_timestamp            0\n",
       "order_approved_time               177\n",
       "order_delivered_carrier_date     2086\n",
       "order_delivered_customer_date    3421\n",
       "order_estimated_delivery_date       0\n",
       "product_id                        833\n",
       "seller_id                         833\n",
       "shipping_limit_date               833\n",
       "price                             833\n",
       "freight_value                     833\n",
       "payment_sequential                  3\n",
       "payment_type                        3\n",
       "payment_installments                3\n",
       "payment_value                       3\n",
       "product_weight(g)                 853\n",
       "product_length(cm)                853\n",
       "product_height(cm)                853\n",
       "product_width(cm)                 853\n",
       "review_id                         997\n",
       "review_score                      997\n",
       "review_creation_date              997\n",
       "review_answer_timestamp           997\n",
       "seller_zip_code_prefix            833\n",
       "seller_city                       833\n",
       "seller_state                      833\n",
       "product_category                 2567\n",
       "dtype: int64"
      ]
     },
     "execution_count": 16,
     "metadata": {},
     "output_type": "execute_result"
    }
   ],
   "source": [
    "data.isna().sum()"
   ]
  },
  {
   "cell_type": "code",
   "execution_count": 17,
   "metadata": {},
   "outputs": [],
   "source": [
    "# Dropping the missing values\n",
    "data.dropna(inplace=True)"
   ]
  },
  {
   "cell_type": "code",
   "execution_count": 18,
   "metadata": {},
   "outputs": [
    {
     "data": {
      "text/plain": [
       "order_id                         0\n",
       "customer_id                      0\n",
       "order_status                     0\n",
       "order_purchase_timestamp         0\n",
       "order_approved_time              0\n",
       "order_delivered_carrier_date     0\n",
       "order_delivered_customer_date    0\n",
       "order_estimated_delivery_date    0\n",
       "product_id                       0\n",
       "seller_id                        0\n",
       "shipping_limit_date              0\n",
       "price                            0\n",
       "freight_value                    0\n",
       "payment_sequential               0\n",
       "payment_type                     0\n",
       "payment_installments             0\n",
       "payment_value                    0\n",
       "product_weight(g)                0\n",
       "product_length(cm)               0\n",
       "product_height(cm)               0\n",
       "product_width(cm)                0\n",
       "review_id                        0\n",
       "review_score                     0\n",
       "review_creation_date             0\n",
       "review_answer_timestamp          0\n",
       "seller_zip_code_prefix           0\n",
       "seller_city                      0\n",
       "seller_state                     0\n",
       "product_category                 0\n",
       "dtype: int64"
      ]
     },
     "execution_count": 18,
     "metadata": {},
     "output_type": "execute_result"
    }
   ],
   "source": [
    "# Checking if missing values have been sorted\n",
    "data.isna().sum()"
   ]
  },
  {
   "cell_type": "code",
   "execution_count": 19,
   "metadata": {},
   "outputs": [
    {
     "data": {
      "text/plain": [
       "10139"
      ]
     },
     "execution_count": 19,
     "metadata": {},
     "output_type": "execute_result"
    }
   ],
   "source": [
    "# Checking for duplicates\n",
    "data.duplicated().sum()"
   ]
  },
  {
   "cell_type": "code",
   "execution_count": 20,
   "metadata": {},
   "outputs": [],
   "source": [
    "# Drop duplicated values\n",
    "data.drop_duplicates(inplace=True)"
   ]
  },
  {
   "cell_type": "code",
   "execution_count": 21,
   "metadata": {},
   "outputs": [
    {
     "name": "stdout",
     "output_type": "stream",
     "text": [
      "Requirement already satisfied: faker in c:\\users\\admin\\anaconda3\\lib\\site-packages (37.1.0)\n",
      "Requirement already satisfied: tzdata in c:\\users\\admin\\anaconda3\\lib\\site-packages (from faker) (2023.3)\n"
     ]
    }
   ],
   "source": [
    "! pip install faker"
   ]
  },
  {
   "cell_type": "code",
   "execution_count": 22,
   "metadata": {},
   "outputs": [
    {
     "name": "stdout",
     "output_type": "stream",
     "text": [
      "                          seller_id              seller_name\n",
      "0  3504c0cb71d7fa48d967e0e4c94d59d9  Srta. Sofia Vasconcelos\n",
      "1  3504c0cb71d7fa48d967e0e4c94d59d9  Srta. Sofia Vasconcelos\n",
      "2  3504c0cb71d7fa48d967e0e4c94d59d9  Srta. Sofia Vasconcelos\n",
      "3  289cdb325fb7e7f891c38608bf9e0962           Sophie Pereira\n",
      "4  4869f7a5dfa277a7dca6462dcf3b52b2         Caroline Machado\n"
     ]
    }
   ],
   "source": [
    "from faker import Faker\n",
    "import pandas as pd\n",
    "\n",
    "# Initialize Faker with the Brazilian Portuguese locale\n",
    "fake = Faker('pt_BR')\n",
    "\n",
    "# Get the unique seller IDs from your DataFrame\n",
    "unique_sellers = data['seller_id'].unique()\n",
    "\n",
    "# Create a mapping from seller_id to a fake name\n",
    "seller_name_mapping = {seller: fake.name() for seller in unique_sellers}\n",
    "\n",
    "# Create a new column 'seller_name' by mapping the seller_id using the generated names\n",
    "data['seller_name'] = data['seller_id'].map(seller_name_mapping)\n",
    "\n",
    "# Optionally, if you prefer to replace the seller_id with the name:\n",
    "# merged_df_cleaned = merged_df_cleaned.drop('seller_id', axis=1).rename(columns={'seller_name': 'seller_id'})\n",
    "\n",
    "# Display the first few rows to verify the changes\n",
    "print(data[['seller_id', 'seller_name']].head())\n"
   ]
  },
  {
   "cell_type": "code",
   "execution_count": 23,
   "metadata": {},
   "outputs": [],
   "source": [
    "# Converting date/time columns into datetime formart\n",
    "data['order_purchase_timestamp'] = pd.to_datetime(data['order_purchase_timestamp'])\n",
    "data['order_approved_time'] = pd.to_datetime(data['order_approved_time'])\n",
    "data['order_delivered_carrier_date'] = pd.to_datetime(data['order_delivered_carrier_date'])\n",
    "data['order_delivered_customer_date'] = pd.to_datetime(data['order_delivered_customer_date'])\n",
    "data['order_estimated_delivery_date'] = pd.to_datetime(data['order_estimated_delivery_date'])\n",
    "data['shipping_limit_date'] = pd.to_datetime(data['shipping_limit_date'])\n",
    "data['review_answer_timestamp'] = pd.to_datetime(data['review_answer_timestamp'])"
   ]
  },
  {
   "cell_type": "code",
   "execution_count": 24,
   "metadata": {},
   "outputs": [],
   "source": [
    "# Export the combined dataFrame\n",
    "data.to_csv('Final_data.csv', index=False)"
   ]
  },
  {
   "cell_type": "markdown",
   "metadata": {},
   "source": [
    "# Exploratory Data Analysis"
   ]
  },
  {
   "cell_type": "markdown",
   "metadata": {},
   "source": [
    "### 1. How have orders and revenue evolved over time"
   ]
  },
  {
   "cell_type": "code",
   "execution_count": 25,
   "metadata": {},
   "outputs": [],
   "source": [
    "# Create year-month column\n",
    "data['year_month'] = data['order_purchase_timestamp'].dt.strftime('%Y %m')"
   ]
  },
  {
   "cell_type": "code",
   "execution_count": 26,
   "metadata": {},
   "outputs": [
    {
     "data": {
      "text/plain": [
       "0         2017 10\n",
       "1         2017 10\n",
       "2         2017 10\n",
       "3         2018 07\n",
       "4         2018 08\n",
       "           ...   \n",
       "119137    2017 03\n",
       "119138    2018 02\n",
       "119139    2017 08\n",
       "119140    2018 01\n",
       "119142    2018 03\n",
       "Name: year_month, Length: 103054, dtype: object"
      ]
     },
     "execution_count": 26,
     "metadata": {},
     "output_type": "execute_result"
    }
   ],
   "source": [
    "data['year_month']"
   ]
  },
  {
   "cell_type": "code",
   "execution_count": 27,
   "metadata": {},
   "outputs": [
    {
     "data": {
      "text/plain": [
       "year_month\n",
       "2016 10      50011.07\n",
       "2016 12         19.62\n",
       "2017 01     131793.27\n",
       "2017 02     274309.59\n",
       "2017 03     422458.23\n",
       "2017 04     394248.11\n",
       "2017 05     586308.00\n",
       "2017 06     519342.63\n",
       "2017 07     604644.49\n",
       "2017 08     677747.03\n",
       "2017 09     728996.24\n",
       "2017 10     783179.60\n",
       "2017 11    1226127.53\n",
       "2017 12     862833.78\n",
       "2018 01    1123863.22\n",
       "2018 02     997722.70\n",
       "2018 03    1150804.13\n",
       "2018 04    1197129.86\n",
       "2018 05    1204892.13\n",
       "2018 06    1067616.19\n",
       "2018 07    1067551.53\n",
       "2018 08    1060873.91\n",
       "Name: payment_value, dtype: float64"
      ]
     },
     "execution_count": 27,
     "metadata": {},
     "output_type": "execute_result"
    }
   ],
   "source": [
    "# How has revenue evolved over time\n",
    "total_revenue = data.groupby('year_month')['payment_value'].sum()\n",
    "total_revenue"
   ]
  },
  {
   "cell_type": "code",
   "execution_count": 28,
   "metadata": {},
   "outputs": [
    {
     "data": {
      "image/png": "[encoded data removed]",
      "text/plain": [
       "<Figure size 1000x500 with 1 Axes>"
      ]
     },
     "metadata": {},
     "output_type": "display_data"
    }
   ],
   "source": [
    "# Visualize how revenue have evolved over time\n",
    "plt.figure(figsize=(10, 5))\n",
    "plt.plot(total_revenue.index, total_revenue.values, marker='o', linestyle='-')\n",
    "plt.xticks(rotation=45, ha='right')\n",
    "plt.xlabel('Year')\n",
    "plt.ylabel('Revenue')\n",
    "plt.title('Revenue Trend over time')\n",
    "plt.grid(True)\n",
    "plt.show()"
   ]
  },
  {
   "cell_type": "markdown",
   "metadata": {},
   "source": [
    "## Findings\n",
    "- Number of orders increased form 2016 to 2018. Indicating Groth of the business\n",
    "- 2017 November had the highest number of orders which was 8000\n",
    "- There was a consistent number of orders in 2018 not below 6000 orders"
   ]
  },
  {
   "cell_type": "markdown",
   "metadata": {},
   "source": []
  },
  {
   "cell_type": "code",
   "execution_count": 29,
   "metadata": {},
   "outputs": [
    {
     "data": {
      "text/plain": [
       "year_month\n",
       "2016 10     299\n",
       "2016 12       1\n",
       "2017 01     828\n",
       "2017 02    1744\n",
       "2017 03    2732\n",
       "2017 04    2431\n",
       "2017 05    3849\n",
       "2017 06    3399\n",
       "2017 07    4275\n",
       "2017 08    4534\n",
       "2017 09    4457\n",
       "2017 10    4842\n",
       "2017 11    7829\n",
       "2017 12    5789\n",
       "2018 01    7483\n",
       "2018 02    6881\n",
       "2018 03    7384\n",
       "2018 04    7251\n",
       "2018 05    7199\n",
       "2018 06    6561\n",
       "2018 07    6521\n",
       "2018 08    6765\n",
       "Name: order_id, dtype: int64"
      ]
     },
     "execution_count": 29,
     "metadata": {},
     "output_type": "execute_result"
    }
   ],
   "source": [
    "# How have orders evolved over time\n",
    "total_orders = data.groupby('year_month')['order_id'].count()\n",
    "total_orders"
   ]
  },
  {
   "cell_type": "code",
   "execution_count": 30,
   "metadata": {},
   "outputs": [
    {
     "data": {
      "image/png": "[encoded data removed]",
      "text/plain": [
       "<Figure size 1000x600 with 1 Axes>"
      ]
     },
     "metadata": {},
     "output_type": "display_data"
    }
   ],
   "source": [
    "plt.figure(figsize=(10, 6))\n",
    "plt.plot(total_orders.index, total_orders.values, marker='o', linestyle='-')\n",
    "plt.xticks(rotation=45, ha='right')\n",
    "plt.xlabel('Year')\n",
    "plt.ylabel('Number of orders')\n",
    "plt.title('Trend of Orders over time')\n",
    "plt.grid(True)\n",
    "plt.show()"
   ]
  },
  {
   "cell_type": "markdown",
   "metadata": {},
   "source": [
    "### Is there a correlaction between Number of Orders and the Revenue"
   ]
  },
  {
   "cell_type": "code",
   "execution_count": 31,
   "metadata": {},
   "outputs": [
    {
     "data": {
      "application/vnd.microsoft.datawrangler.viewer.v0+json": {
       "columns": [
        {
         "name": "year_month",
         "rawType": "object",
         "type": "string"
        },
        {
         "name": "Total Revenue",
         "rawType": "float64",
         "type": "float"
        },
        {
         "name": "Total Orders",
         "rawType": "int64",
         "type": "integer"
        }
       ],
       "conversionMethod": "pd.DataFrame",
       "ref": "a47a5c8e-fe1b-4100-8424-1aadf177aa6c",
       "rows": [
        [
         "2016 10",
         "50011.07",
         "299"
        ],
        [
         "2016 12",
         "19.62",
         "1"
        ],
        [
         "2017 01",
         "131793.27",
         "828"
        ],
        [
         "2017 02",
         "274309.59",
         "1744"
        ],
        [
         "2017 03",
         "422458.23",
         "2732"
        ],
        [
         "2017 04",
         "394248.11",
         "2431"
        ],
        [
         "2017 05",
         "586308.0",
         "3849"
        ],
        [
         "2017 06",
         "519342.63",
         "3399"
        ],
        [
         "2017 07",
         "604644.49",
         "4275"
        ],
        [
         "2017 08",
         "677747.03",
         "4534"
        ],
        [
         "2017 09",
         "728996.24",
         "4457"
        ],
        [
         "2017 10",
         "783179.6",
         "4842"
        ],
        [
         "2017 11",
         "1226127.53",
         "7829"
        ],
        [
         "2017 12",
         "862833.78",
         "5789"
        ],
        [
         "2018 01",
         "1123863.22",
         "7483"
        ],
        [
         "2018 02",
         "997722.7",
         "6881"
        ],
        [
         "2018 03",
         "1150804.13",
         "7384"
        ],
        [
         "2018 04",
         "1197129.86",
         "7251"
        ],
        [
         "2018 05",
         "1204892.13",
         "7199"
        ],
        [
         "2018 06",
         "1067616.19",
         "6561"
        ],
        [
         "2018 07",
         "1067551.53",
         "6521"
        ],
        [
         "2018 08",
         "1060873.91",
         "6765"
        ]
       ],
       "shape": {
        "columns": 2,
        "rows": 22
       }
      },
      "text/html": [
       "<div>\n",
       "<style scoped>\n",
       "    .dataframe tbody tr th:only-of-type {\n",
       "        vertical-align: middle;\n",
       "    }\n",
       "\n",
       "    .dataframe tbody tr th {\n",
       "        vertical-align: top;\n",
       "    }\n",
       "\n",
       "    .dataframe thead th {\n",
       "        text-align: right;\n",
       "    }\n",
       "</style>\n",
       "<table border=\"1\" class=\"dataframe\">\n",
       "  <thead>\n",
       "    <tr style=\"text-align: right;\">\n",
       "      <th></th>\n",
       "      <th>Total Revenue</th>\n",
       "      <th>Total Orders</th>\n",
       "    </tr>\n",
       "    <tr>\n",
       "      <th>year_month</th>\n",
       "      <th></th>\n",
       "      <th></th>\n",
       "    </tr>\n",
       "  </thead>\n",
       "  <tbody>\n",
       "    <tr>\n",
       "      <th>2016 10</th>\n",
       "      <td>50011.07</td>\n",
       "      <td>299</td>\n",
       "    </tr>\n",
       "    <tr>\n",
       "      <th>2016 12</th>\n",
       "      <td>19.62</td>\n",
       "      <td>1</td>\n",
       "    </tr>\n",
       "    <tr>\n",
       "      <th>2017 01</th>\n",
       "      <td>131793.27</td>\n",
       "      <td>828</td>\n",
       "    </tr>\n",
       "    <tr>\n",
       "      <th>2017 02</th>\n",
       "      <td>274309.59</td>\n",
       "      <td>1744</td>\n",
       "    </tr>\n",
       "    <tr>\n",
       "      <th>2017 03</th>\n",
       "      <td>422458.23</td>\n",
       "      <td>2732</td>\n",
       "    </tr>\n",
       "    <tr>\n",
       "      <th>2017 04</th>\n",
       "      <td>394248.11</td>\n",
       "      <td>2431</td>\n",
       "    </tr>\n",
       "    <tr>\n",
       "      <th>2017 05</th>\n",
       "      <td>586308.00</td>\n",
       "      <td>3849</td>\n",
       "    </tr>\n",
       "    <tr>\n",
       "      <th>2017 06</th>\n",
       "      <td>519342.63</td>\n",
       "      <td>3399</td>\n",
       "    </tr>\n",
       "    <tr>\n",
       "      <th>2017 07</th>\n",
       "      <td>604644.49</td>\n",
       "      <td>4275</td>\n",
       "    </tr>\n",
       "    <tr>\n",
       "      <th>2017 08</th>\n",
       "      <td>677747.03</td>\n",
       "      <td>4534</td>\n",
       "    </tr>\n",
       "    <tr>\n",
       "      <th>2017 09</th>\n",
       "      <td>728996.24</td>\n",
       "      <td>4457</td>\n",
       "    </tr>\n",
       "    <tr>\n",
       "      <th>2017 10</th>\n",
       "      <td>783179.60</td>\n",
       "      <td>4842</td>\n",
       "    </tr>\n",
       "    <tr>\n",
       "      <th>2017 11</th>\n",
       "      <td>1226127.53</td>\n",
       "      <td>7829</td>\n",
       "    </tr>\n",
       "    <tr>\n",
       "      <th>2017 12</th>\n",
       "      <td>862833.78</td>\n",
       "      <td>5789</td>\n",
       "    </tr>\n",
       "    <tr>\n",
       "      <th>2018 01</th>\n",
       "      <td>1123863.22</td>\n",
       "      <td>7483</td>\n",
       "    </tr>\n",
       "    <tr>\n",
       "      <th>2018 02</th>\n",
       "      <td>997722.70</td>\n",
       "      <td>6881</td>\n",
       "    </tr>\n",
       "    <tr>\n",
       "      <th>2018 03</th>\n",
       "      <td>1150804.13</td>\n",
       "      <td>7384</td>\n",
       "    </tr>\n",
       "    <tr>\n",
       "      <th>2018 04</th>\n",
       "      <td>1197129.86</td>\n",
       "      <td>7251</td>\n",
       "    </tr>\n",
       "    <tr>\n",
       "      <th>2018 05</th>\n",
       "      <td>1204892.13</td>\n",
       "      <td>7199</td>\n",
       "    </tr>\n",
       "    <tr>\n",
       "      <th>2018 06</th>\n",
       "      <td>1067616.19</td>\n",
       "      <td>6561</td>\n",
       "    </tr>\n",
       "    <tr>\n",
       "      <th>2018 07</th>\n",
       "      <td>1067551.53</td>\n",
       "      <td>6521</td>\n",
       "    </tr>\n",
       "    <tr>\n",
       "      <th>2018 08</th>\n",
       "      <td>1060873.91</td>\n",
       "      <td>6765</td>\n",
       "    </tr>\n",
       "  </tbody>\n",
       "</table>\n",
       "</div>"
      ],
      "text/plain": [
       "            Total Revenue  Total Orders\n",
       "year_month                             \n",
       "2016 10          50011.07           299\n",
       "2016 12             19.62             1\n",
       "2017 01         131793.27           828\n",
       "2017 02         274309.59          1744\n",
       "2017 03         422458.23          2732\n",
       "2017 04         394248.11          2431\n",
       "2017 05         586308.00          3849\n",
       "2017 06         519342.63          3399\n",
       "2017 07         604644.49          4275\n",
       "2017 08         677747.03          4534\n",
       "2017 09         728996.24          4457\n",
       "2017 10         783179.60          4842\n",
       "2017 11        1226127.53          7829\n",
       "2017 12         862833.78          5789\n",
       "2018 01        1123863.22          7483\n",
       "2018 02         997722.70          6881\n",
       "2018 03        1150804.13          7384\n",
       "2018 04        1197129.86          7251\n",
       "2018 05        1204892.13          7199\n",
       "2018 06        1067616.19          6561\n",
       "2018 07        1067551.53          6521\n",
       "2018 08        1060873.91          6765"
      ]
     },
     "execution_count": 31,
     "metadata": {},
     "output_type": "execute_result"
    }
   ],
   "source": [
    "correlation_df = pd.DataFrame({'Total Revenue':total_revenue, 'Total Orders': total_orders})\n",
    "correlation_df"
   ]
  },
  {
   "cell_type": "code",
   "execution_count": 32,
   "metadata": {},
   "outputs": [
    {
     "name": "stdout",
     "output_type": "stream",
     "text": [
      "               Total Revenue  Total Orders\n",
      "Total Revenue       1.000000      0.995221\n",
      "Total Orders        0.995221      1.000000\n"
     ]
    }
   ],
   "source": [
    "correlation = correlation_df[['Total Revenue', 'Total Orders']].corr()\n",
    "print(correlation)"
   ]
  },
  {
   "cell_type": "markdown",
   "metadata": {},
   "source": [
    "Since the correlation is close to 1, it suggests that as the number of orders increases, the total revenue also increases proportionally."
   ]
  },
  {
   "cell_type": "markdown",
   "metadata": {},
   "source": [
    "## Which product categories and sellers contribute most to Revenue"
   ]
  },
  {
   "cell_type": "code",
   "execution_count": 33,
   "metadata": {},
   "outputs": [
    {
     "data": {
      "text/plain": [
       "product_category\n",
       "health_beauty            1459842.13\n",
       "bed_bath_table           1447334.08\n",
       "watches_gifts            1302780.28\n",
       "sports_leisure           1164256.41\n",
       "computers_accessories    1124292.30\n",
       "furniture_decor           999108.61\n",
       "housewares                801721.05\n",
       "cool_stuff                701657.59\n",
       "auto                      694268.83\n",
       "garden_tools              601801.03\n",
       "Name: payment_value, dtype: float64"
      ]
     },
     "execution_count": 33,
     "metadata": {},
     "output_type": "execute_result"
    }
   ],
   "source": [
    "# Which product contribute most revenue\n",
    "category = data.groupby('product_category')['payment_value'].sum()\n",
    "top_10_category = category.sort_values(ascending=False).head(10)\n",
    "top_10_category"
   ]
  },
  {
   "cell_type": "code",
   "execution_count": 34,
   "metadata": {},
   "outputs": [
    {
     "data": {
      "image/png": "[encoded data removed]",
      "text/plain": [
       "<Figure size 1000x500 with 1 Axes>"
      ]
     },
     "metadata": {},
     "output_type": "display_data"
    }
   ],
   "source": [
    "# Visualize the top 10 product category that contribute most revenue\n",
    "plt.figure(figsize=(10, 5))\n",
    "top_10_category.plot(kind='bar')\n",
    "plt.xticks(rotation=45, ha='right')\n",
    "plt.xlabel('Product Name')\n",
    "plt.ylabel('Total Revenue')\n",
    "plt.title(\"Top 10 Product Categories Driving the Highest Revenue\")\n",
    "plt.show()"
   ]
  },
  {
   "cell_type": "markdown",
   "metadata": {},
   "source": [
    "## Findings\n",
    "    - Health & Beauty Leads Revenue: The Health & Beauty category generates the highest revenue (1.46M), indicating strong consumer demand for personal care products."
   ]
  },
  {
   "cell_type": "markdown",
   "metadata": {},
   "source": []
  },
  {
   "cell_type": "code",
   "execution_count": 35,
   "metadata": {},
   "outputs": [
    {
     "data": {
      "text/plain": [
       "seller_name\n",
       "Ana Cecília da Luz           267052.46\n",
       "Leonardo Lima                256381.87\n",
       "Caroline Machado             253211.61\n",
       "Brenda Pastor                234070.48\n",
       "Sra. Stephany Vasconcelos    228644.10\n",
       "Carolina Casa Grande         201922.01\n",
       "Oliver Martins               189655.52\n",
       "Bento Santos                 173437.73\n",
       "Kaique Fogaça                167669.26\n",
       "Sr. Davi Moura               167547.64\n",
       "Name: payment_value, dtype: float64"
      ]
     },
     "execution_count": 35,
     "metadata": {},
     "output_type": "execute_result"
    }
   ],
   "source": [
    "# Which sellers contribute to most of the revenue\n",
    "sellers = data.groupby('seller_name')['payment_value'].sum()\n",
    "top_10_sellers = sellers.sort_values(ascending=False).head(10)\n",
    "top_10_sellers"
   ]
  },
  {
   "cell_type": "code",
   "execution_count": 36,
   "metadata": {},
   "outputs": [
    {
     "data": {
      "image/png": "[encoded data removed]",
      "text/plain": [
       "<Figure size 1000x600 with 1 Axes>"
      ]
     },
     "metadata": {},
     "output_type": "display_data"
    }
   ],
   "source": [
    "# Visualize top sellers\n",
    "plt.figure(figsize=(10,6))\n",
    "plt.bar(top_10_sellers.index, top_10_sellers.values)\n",
    "plt.xticks(rotation=45, ha='right')\n",
    "plt.xlabel('Sellers Name')\n",
    "plt.ylabel('Revenue')\n",
    "plt.title('Top 10 Sellers with the highest Revenue')\n",
    "plt.show()"
   ]
  },
  {
   "cell_type": "markdown",
   "metadata": {},
   "source": [
    "# How efficient is the delivery process interms of ontime perfomance?"
   ]
  },
  {
   "cell_type": "code",
   "execution_count": 37,
   "metadata": {},
   "outputs": [
    {
     "name": "stdout",
     "output_type": "stream",
     "text": [
      "On-Time Delivery Rate: 92.21%\n"
     ]
    }
   ],
   "source": [
    "# Convert dates to datetime formart\n",
    "data['order_delivered_customer_date'] = pd.to_datetime(data['order_delivered_customer_date'])\n",
    "\n",
    "# Check if an order was delivered on or before the estimated delivery date\n",
    "data['on_time_delivery'] = data['order_delivered_customer_date'] <= data['order_estimated_delivery_date']\n",
    "\n",
    "# Calculate the percentage of on-time delivery\n",
    "on_time_delivery_rate = data['on_time_delivery'].mean() * 100\n",
    "\n",
    "print(f\"On-Time Delivery Rate: {on_time_delivery_rate:.2f}%\")\n"
   ]
  },
  {
   "cell_type": "code",
   "execution_count": 38,
   "metadata": {},
   "outputs": [
    {
     "data": {
      "image/png": "[encoded data removed]",
      "text/plain": [
       "<Figure size 600x600 with 1 Axes>"
      ]
     },
     "metadata": {},
     "output_type": "display_data"
    }
   ],
   "source": [
    "# Visualize ontime vs late Deliveries\n",
    "# Calculate the onetime and late deliveries\n",
    "on_time = data['on_time_delivery'].sum()\n",
    "late = len(data) - on_time\n",
    "\n",
    "plt.figure(figsize=(6, 6))\n",
    "plt.pie([on_time, late], labels=['On-Time', 'Late'], autopct='%1.1f%%', colors=['royalblue', 'orange'])\n",
    "plt.title('On-Time Delivery Performance')\n",
    "plt.show()"
   ]
  },
  {
   "cell_type": "markdown",
   "metadata": {},
   "source": [
    "### What payment methods are most popular and how do they impact revenue?"
   ]
  },
  {
   "cell_type": "code",
   "execution_count": 56,
   "metadata": {},
   "outputs": [
    {
     "data": {
      "text/plain": [
       "Index(['order_id', 'customer_id', 'order_status', 'order_purchase_timestamp',\n",
       "       'order_approved_time', 'order_delivered_carrier_date',\n",
       "       'order_delivered_customer_date', 'order_estimated_delivery_date',\n",
       "       'product_id', 'seller_id', 'shipping_limit_date', 'price',\n",
       "       'freight_value', 'payment_sequential', 'payment_type',\n",
       "       'payment_installments', 'payment_value', 'product_weight(g)',\n",
       "       'product_length(cm)', 'product_height(cm)', 'product_width(cm)',\n",
       "       'review_id', 'review_score', 'review_creation_date',\n",
       "       'review_answer_timestamp', 'seller_zip_code_prefix', 'seller_city',\n",
       "       'seller_state', 'product_category', 'seller_name', 'year_month',\n",
       "       'on_time_delivery'],\n",
       "      dtype='object')"
      ]
     },
     "execution_count": 56,
     "metadata": {},
     "output_type": "execute_result"
    }
   ],
   "source": [
    "data.columns"
   ]
  },
  {
   "cell_type": "code",
   "execution_count": 47,
   "metadata": {},
   "outputs": [
    {
     "data": {
      "text/plain": [
       "payment_type\n",
       "credit_card    76345\n",
       "boleto         19555\n",
       "voucher         5635\n",
       "debit_card      1519\n",
       "Name: order_id, dtype: int64"
      ]
     },
     "execution_count": 47,
     "metadata": {},
     "output_type": "execute_result"
    }
   ],
   "source": [
    "# Most used payment methods\n",
    "payment_methods = data.groupby('payment_type')['order_id'].count().sort_values(ascending=False)\n",
    "payment_methods"
   ]
  },
  {
   "cell_type": "code",
   "execution_count": 46,
   "metadata": {},
   "outputs": [
    {
     "data": {
      "text/plain": [
       "payment_type\n",
       "credit_card    12653573.20\n",
       "boleto          2902746.11\n",
       "voucher          353787.24\n",
       "debit_card       222366.31\n",
       "Name: payment_value, dtype: float64"
      ]
     },
     "execution_count": 46,
     "metadata": {},
     "output_type": "execute_result"
    }
   ],
   "source": [
    "# Payment values and the revenue they generate\n",
    "payment_revenue = data.groupby('payment_type')['payment_value'].sum().sort_values(ascending=False)\n",
    "payment_revenue"
   ]
  },
  {
   "cell_type": "code",
   "execution_count": null,
   "metadata": {},
   "outputs": [],
   "source": [
    "category_df = pd.DataFrame({'Total Revenue': category, 'No of Orders': category_analysis})\n",
    "category_df = category_df.sort_values(by = 'Total Revenue', ascending=False).head(10)"
   ]
  },
  {
   "cell_type": "code",
   "execution_count": null,
   "metadata": {},
   "outputs": [],
   "source": [
    "# Merge this two df\n",
    "payment_df = pd.DataFrame({'Revenue':payment_revenue, 'Type': payment_methods})\n",
    "payment_df\n"
   ]
  },
  {
   "cell_type": "code",
   "execution_count": 57,
   "metadata": {},
   "outputs": [
    {
     "data": {
      "image/png": "[encoded data removed]",
      "text/plain": [
       "<Figure size 1000x400 with 1 Axes>"
      ]
     },
     "metadata": {},
     "output_type": "display_data"
    }
   ],
   "source": [
    "# Plot Payment Method Distribution\n",
    "plt.figure(figsize=(10, 4))\n",
    "plt.bar(payment_methods.index, payment_methods.values, color='blue')\n",
    "plt.title(\"Payment Method Distribution\")\n",
    "plt.ylabel(\"Count\")\n",
    "plt.xticks(rotation=45)\n",
    "plt.show()"
   ]
  },
  {
   "cell_type": "code",
   "execution_count": 58,
   "metadata": {},
   "outputs": [
    {
     "data": {
      "image/png": "[encoded data removed]",
      "text/plain": [
       "<Figure size 1000x400 with 1 Axes>"
      ]
     },
     "metadata": {},
     "output_type": "display_data"
    }
   ],
   "source": [
    "plt.figure(figsize=(10, 4))\n",
    "plt.bar(payment_revenue.index, payment_revenue.values, color='green')\n",
    "plt.title(\"Revenue Contribution by Payment Type\")\n",
    "plt.ylabel(\"Total Revenue\")\n",
    "plt.xticks(rotation=45)\n",
    "plt.show()"
   ]
  },
  {
   "cell_type": "code",
   "execution_count": 66,
   "metadata": {},
   "outputs": [],
   "source": [
    "# Order processing time by payment method (approval time - purchase time)\n",
    "data['processing_time'] = (data['order_approved_time'] - data['order_purchase_timestamp']).dt.total_seconds() / 3600\n",
    "processing_time = data.groupby('payment_type')['processing_time'].mean()"
   ]
  },
  {
   "cell_type": "code",
   "execution_count": 67,
   "metadata": {},
   "outputs": [
    {
     "data": {
      "text/plain": [
       "payment_type\n",
       "boleto         33.022212\n",
       "credit_card     4.499843\n",
       "debit_card      8.980989\n",
       "voucher         8.408607\n",
       "Name: processing_time, dtype: float64"
      ]
     },
     "execution_count": 67,
     "metadata": {},
     "output_type": "execute_result"
    }
   ],
   "source": [
    "processing_time"
   ]
  },
  {
   "cell_type": "code",
   "execution_count": 68,
   "metadata": {},
   "outputs": [
    {
     "data": {
      "image/png": "[encoded data removed]",
      "text/plain": [
       "<Figure size 1000x400 with 1 Axes>"
      ]
     },
     "metadata": {},
     "output_type": "display_data"
    }
   ],
   "source": [
    "# Plot Order Processing Time\n",
    "plt.figure(figsize=(10, 4))\n",
    "plt.bar(processing_time.index, processing_time.values, color='orange')\n",
    "plt.title(\"Average Order Processing Time by Payment Type\")\n",
    "plt.ylabel(\"Processing Time (Hours)\")\n",
    "plt.xticks(rotation=45)\n",
    "plt.show()"
   ]
  },
  {
   "cell_type": "markdown",
   "metadata": {},
   "source": [
    "The analysis shows that boleto takes the longest to process (33 hours), due to its manual verification process. Credit cards are the fastest (4.5 hours), offering quicker approval. Debit cards (9 hours) and vouchers (8.4 hours) are slower but still faster than boleto."
   ]
  },
  {
   "cell_type": "code",
   "execution_count": 69,
   "metadata": {},
   "outputs": [],
   "source": [
    "# Calculate shipping time in hours\n",
    "data['shipping_time'] = (data['order_delivered_customer_date'] - data['order_purchase_timestamp']).dt.total_seconds() / 3600"
   ]
  },
  {
   "cell_type": "code",
   "execution_count": 73,
   "metadata": {},
   "outputs": [
    {
     "data": {
      "application/vnd.microsoft.datawrangler.viewer.v0+json": {
       "columns": [
        {
         "name": "index",
         "rawType": "object",
         "type": "string"
        },
        {
         "name": "review_score",
         "rawType": "float64",
         "type": "float"
        },
        {
         "name": "processing_time",
         "rawType": "float64",
         "type": "float"
        },
        {
         "name": "shipping_time",
         "rawType": "float64",
         "type": "float"
        },
        {
         "name": "price",
         "rawType": "float64",
         "type": "float"
        }
       ],
       "conversionMethod": "pd.DataFrame",
       "ref": "0ec18344-9adb-41af-ae4a-d32dc4e8ca66",
       "rows": [
        [
         "review_score",
         "1.0",
         "-0.014415425306180679",
         "-0.31534528237510734",
         "-0.0007532088101320032"
        ],
        [
         "processing_time",
         "-0.014415425306180679",
         "1.0",
         "0.08035713423689238",
         "0.016375294139785272"
        ],
        [
         "shipping_time",
         "-0.31534528237510734",
         "0.08035713423689238",
         "1.0",
         "0.05907547871674737"
        ],
        [
         "price",
         "-0.0007532088101320032",
         "0.016375294139785272",
         "0.05907547871674737",
         "1.0"
        ]
       ],
       "shape": {
        "columns": 4,
        "rows": 4
       }
      },
      "text/html": [
       "<div>\n",
       "<style scoped>\n",
       "    .dataframe tbody tr th:only-of-type {\n",
       "        vertical-align: middle;\n",
       "    }\n",
       "\n",
       "    .dataframe tbody tr th {\n",
       "        vertical-align: top;\n",
       "    }\n",
       "\n",
       "    .dataframe thead th {\n",
       "        text-align: right;\n",
       "    }\n",
       "</style>\n",
       "<table border=\"1\" class=\"dataframe\">\n",
       "  <thead>\n",
       "    <tr style=\"text-align: right;\">\n",
       "      <th></th>\n",
       "      <th>review_score</th>\n",
       "      <th>processing_time</th>\n",
       "      <th>shipping_time</th>\n",
       "      <th>price</th>\n",
       "    </tr>\n",
       "  </thead>\n",
       "  <tbody>\n",
       "    <tr>\n",
       "      <th>review_score</th>\n",
       "      <td>1.000000</td>\n",
       "      <td>-0.014415</td>\n",
       "      <td>-0.315345</td>\n",
       "      <td>-0.000753</td>\n",
       "    </tr>\n",
       "    <tr>\n",
       "      <th>processing_time</th>\n",
       "      <td>-0.014415</td>\n",
       "      <td>1.000000</td>\n",
       "      <td>0.080357</td>\n",
       "      <td>0.016375</td>\n",
       "    </tr>\n",
       "    <tr>\n",
       "      <th>shipping_time</th>\n",
       "      <td>-0.315345</td>\n",
       "      <td>0.080357</td>\n",
       "      <td>1.000000</td>\n",
       "      <td>0.059075</td>\n",
       "    </tr>\n",
       "    <tr>\n",
       "      <th>price</th>\n",
       "      <td>-0.000753</td>\n",
       "      <td>0.016375</td>\n",
       "      <td>0.059075</td>\n",
       "      <td>1.000000</td>\n",
       "    </tr>\n",
       "  </tbody>\n",
       "</table>\n",
       "</div>"
      ],
      "text/plain": [
       "                 review_score  processing_time  shipping_time     price\n",
       "review_score         1.000000        -0.014415      -0.315345 -0.000753\n",
       "processing_time     -0.014415         1.000000       0.080357  0.016375\n",
       "shipping_time       -0.315345         0.080357       1.000000  0.059075\n",
       "price               -0.000753         0.016375       0.059075  1.000000"
      ]
     },
     "execution_count": 73,
     "metadata": {},
     "output_type": "execute_result"
    }
   ],
   "source": [
    "# Analyze correlation between review score and order performance metrics\n",
    "review_order_correlation = data[['review_score', 'processing_time', 'shipping_time', 'price']].corr()\n",
    "review_order_correlation"
   ]
  },
  {
   "cell_type": "code",
   "execution_count": 72,
   "metadata": {},
   "outputs": [
    {
     "data": {
      "image/png": "[encoded data removed]",
      "text/plain": [
       "<Figure size 800x600 with 2 Axes>"
      ]
     },
     "metadata": {},
     "output_type": "display_data"
    }
   ],
   "source": [
    "# Plot correlation matrix\n",
    "plt.figure(figsize=(8, 6))\n",
    "plt.imshow(review_order_correlation, cmap='coolwarm', interpolation='none')\n",
    "plt.colorbar()\n",
    "plt.xticks(range(len(review_order_correlation.columns)), review_order_correlation.columns, rotation=45)\n",
    "plt.yticks(range(len(review_order_correlation.columns)), review_order_correlation.columns)\n",
    "plt.title(\"Correlation Between Customer Reviews and Order Performance\")\n",
    "plt.show()\n"
   ]
  },
  {
   "cell_type": "markdown",
   "metadata": {},
   "source": [
    "Review score and processing time: No significant correlation.\n",
    "\n",
    "Review score and shipping time: Moderate negative correlation (-0.32), indicating that longer shipping times lead to lower review scores.\n",
    "\n",
    "Review score and price: No significant correlation.\n",
    "\n",
    "Processing time and shipping time: Very weak positive correlation.\n",
    "\n",
    "Processing time and price: No significant correlation.\n",
    "\n",
    "Shipping time and price: Very weak positive correlation.\n",
    "\n",
    "Key Insight:\n",
    "Longer shipping times lead to lower review scores, suggesting that improving shipping speed could enhance customer satisfaction"
   ]
  },
  {
   "cell_type": "code",
   "execution_count": 76,
   "metadata": {},
   "outputs": [
    {
     "data": {
      "application/vnd.microsoft.datawrangler.viewer.v0+json": {
       "columns": [
        {
         "name": "customer_id",
         "rawType": "object",
         "type": "string"
        },
        {
         "name": "total_spent",
         "rawType": "float64",
         "type": "float"
        },
        {
         "name": "order_count",
         "rawType": "int64",
         "type": "integer"
        },
        {
         "name": "review_count",
         "rawType": "int64",
         "type": "integer"
        },
        {
         "name": "days_since_last_order",
         "rawType": "int64",
         "type": "integer"
        }
       ],
       "conversionMethod": "pd.DataFrame",
       "ref": "3bd26cea-d9ff-4b54-911f-298e66185dce",
       "rows": [
        [
         "71901689c5f3e5adc27b1dd16b33f0b8",
         "15978.65",
         "5",
         "5",
         "99"
        ],
        [
         "1617b1357756262bfa56ab541c47bc16",
         "13664.08",
         "1",
         "1",
         "333"
        ],
        [
         "be1c4e52bb71e0c54b11a26b8e8d59f2",
         "10247.400000000001",
         "12",
         "12",
         "316"
        ],
        [
         "0d861a5e4dd6a9079d89e1330848f0ab",
         "9258.24",
         "8",
         "8",
         "17"
        ],
        [
         "cc803a2c412833101651d3f90ca7de24",
         "8891.0",
         "2",
         "2",
         "89"
        ],
        [
         "30bb84b541c96af98ba7d90b9ebf35d0",
         "8697.99",
         "7",
         "7",
         "280"
        ],
        [
         "5e312b0d9bf5c91599eb42120e633b19",
         "8530.14",
         "6",
         "6",
         "435"
        ],
        [
         "ec5b2ba62e574342386871631fafd3fc",
         "7274.88",
         "1",
         "1",
         "45"
        ],
        [
         "c6e2731c5b391845f6800c97401a43a9",
         "6929.31",
         "1",
         "1",
         "562"
        ],
        [
         "3fd6777bbce08a352fddd04e4a7cc8f6",
         "6726.66",
         "1",
         "1",
         "461"
        ],
        [
         "f7622098214b4634b7fe7eee269b5426",
         "6485.68",
         "2",
         "2",
         "88"
        ],
        [
         "9f0b591bc0110c16bb95fdcb47878544",
         "6265.15",
         "5",
         "5",
         "23"
        ],
        [
         "05455dfa7cd02f13d132aa7a6a9729c6",
         "6081.54",
         "1",
         "1",
         "278"
        ],
        [
         "daf15f1b940cc6a72ba558f093dc00dd",
         "4987.88",
         "4",
         "4",
         "133"
        ],
        [
         "df55c14d1476a9a3467f131269c2477f",
         "4950.34",
         "1",
         "1",
         "514"
        ],
        [
         "24bbf5fd2f2e1b359ee7de94defc4a15",
         "4764.34",
         "1",
         "1",
         "497"
        ],
        [
         "3d979689f636322c62418b6346b1c6d2",
         "4681.78",
         "1",
         "1",
         "68"
        ],
        [
         "3d4bc7f585bc0534e4a0c00c086721b2",
         "4577.34",
         "3",
         "3",
         "164"
        ],
        [
         "1afc82cd60e303ef09b4ef9837c9505c",
         "4513.32",
         "1",
         "1",
         "25"
        ],
        [
         "90af4933b09c472f006bde067530f672",
         "4491.44",
         "4",
         "4",
         "382"
        ],
        [
         "e7d6802668de6e74d0d6c56565bf2a24",
         "4469.32",
         "2",
         "2",
         "330"
        ],
        [
         "88bfbe93f1c2d378de7fb22d588f9661",
         "4415.96",
         "2",
         "2",
         "117"
        ],
        [
         "c04734728558c8ad7e4b1db771fde5e3",
         "4296.8",
         "2",
         "2",
         "294"
        ],
        [
         "926b6a6fb8b6081e00b335edaf578d35",
         "4194.76",
         "2",
         "2",
         "497"
        ],
        [
         "35a413c7ca3c69756cb75867d6311c0d",
         "4175.26",
         "1",
         "1",
         "153"
        ],
        [
         "e9b0d0eb3015ef1c9ce6cf5b9dcbee9f",
         "4163.51",
         "1",
         "1",
         "31"
        ],
        [
         "e9bca2aac8f400109e997596326d9227",
         "4150.96",
         "2",
         "2",
         "92"
        ],
        [
         "74be082247cd677a147d83ee670e9d53",
         "4134.84",
         "2",
         "2",
         "446"
        ],
        [
         "be3b6d48ba2efdd20e81ccdf12e2e59e",
         "4085.92",
         "4",
         "4",
         "399"
        ],
        [
         "a67a246af6ba598a14cc86df3c0354ee",
         "4080.5800000000004",
         "7",
         "7",
         "108"
        ],
        [
         "c455144b0c6e78f2574b7a92f22342cf",
         "4047.1499999999996",
         "3",
         "3",
         "210"
        ],
        [
         "eb7a157e8da9c488cd4ddc48711f1097",
         "4034.44",
         "2",
         "2",
         "85"
        ],
        [
         "c6695e3b1e48680db36b487419fb0398",
         "4016.91",
         "1",
         "1",
         "528"
        ],
        [
         "31e83c01fce824d0ff786fcd48dad009",
         "3979.55",
         "1",
         "1",
         "106"
        ],
        [
         "8c20d9bfbc96c5d39025d77a3ba83d7f",
         "3977.1",
         "2",
         "2",
         "208"
        ],
        [
         "5c51fe11e0c3a016201653955c6090ee",
         "3944.06",
         "2",
         "2",
         "55"
        ],
        [
         "addc91fdf9c2b3045497b57fc710e820",
         "3826.8",
         "1",
         "1",
         "215"
        ],
        [
         "347571ef4eb58a43834a327e2e318ff8",
         "3814.12",
         "4",
         "4",
         "290"
        ],
        [
         "19b32919fa1198aefc0773ee2e46e693",
         "3792.59",
         "1",
         "1",
         "160"
        ],
        [
         "c9dc6fff8500f3735822d5356bcb0e1b",
         "3791.46",
         "6",
         "6",
         "37"
        ],
        [
         "685fb109df0c1232f10d52cc1ffb93ac",
         "3763.12",
         "4",
         "4",
         "460"
        ],
        [
         "4d82e79f5404e8c3f059ab099fbe5dda",
         "3758.88",
         "4",
         "4",
         "327"
        ],
        [
         "66657bf1753d82d0a76f2c4719ab8b85",
         "3736.22",
         "1",
         "1",
         "565"
        ],
        [
         "d057951b2e010930970d111b015bc37d",
         "3722.52",
         "2",
         "2",
         "37"
        ],
        [
         "7d03bf20fa96e80468bbf678eebbcb3f",
         "3666.42",
         "1",
         "1",
         "475"
        ],
        [
         "a828c4f615a8dd8518659d867b3012bd",
         "3637.9",
         "5",
         "5",
         "277"
        ],
        [
         "39d6658037b1b5a07d0a24d423f0bd19",
         "3602.47",
         "1",
         "1",
         "553"
        ],
        [
         "6141c2f0b2588d5a833cb947ca6c1a9b",
         "3568.4",
         "2",
         "2",
         "116"
        ],
        [
         "37eb443380c8aba9174ef0dbe858fbe4",
         "3536.8",
         "2",
         "2",
         "22"
        ],
        [
         "e7c905bf4bb13543e8df947af4f3d9e9",
         "3526.46",
         "1",
         "1",
         "142"
        ]
       ],
       "shape": {
        "columns": 4,
        "rows": 94471
       }
      },
      "text/html": [
       "<div>\n",
       "<style scoped>\n",
       "    .dataframe tbody tr th:only-of-type {\n",
       "        vertical-align: middle;\n",
       "    }\n",
       "\n",
       "    .dataframe tbody tr th {\n",
       "        vertical-align: top;\n",
       "    }\n",
       "\n",
       "    .dataframe thead th {\n",
       "        text-align: right;\n",
       "    }\n",
       "</style>\n",
       "<table border=\"1\" class=\"dataframe\">\n",
       "  <thead>\n",
       "    <tr style=\"text-align: right;\">\n",
       "      <th></th>\n",
       "      <th>total_spent</th>\n",
       "      <th>order_count</th>\n",
       "      <th>review_count</th>\n",
       "      <th>days_since_last_order</th>\n",
       "    </tr>\n",
       "    <tr>\n",
       "      <th>customer_id</th>\n",
       "      <th></th>\n",
       "      <th></th>\n",
       "      <th></th>\n",
       "      <th></th>\n",
       "    </tr>\n",
       "  </thead>\n",
       "  <tbody>\n",
       "    <tr>\n",
       "      <th>71901689c5f3e5adc27b1dd16b33f0b8</th>\n",
       "      <td>15978.65</td>\n",
       "      <td>5</td>\n",
       "      <td>5</td>\n",
       "      <td>99</td>\n",
       "    </tr>\n",
       "    <tr>\n",
       "      <th>1617b1357756262bfa56ab541c47bc16</th>\n",
       "      <td>13664.08</td>\n",
       "      <td>1</td>\n",
       "      <td>1</td>\n",
       "      <td>333</td>\n",
       "    </tr>\n",
       "    <tr>\n",
       "      <th>be1c4e52bb71e0c54b11a26b8e8d59f2</th>\n",
       "      <td>10247.40</td>\n",
       "      <td>12</td>\n",
       "      <td>12</td>\n",
       "      <td>316</td>\n",
       "    </tr>\n",
       "    <tr>\n",
       "      <th>0d861a5e4dd6a9079d89e1330848f0ab</th>\n",
       "      <td>9258.24</td>\n",
       "      <td>8</td>\n",
       "      <td>8</td>\n",
       "      <td>17</td>\n",
       "    </tr>\n",
       "    <tr>\n",
       "      <th>cc803a2c412833101651d3f90ca7de24</th>\n",
       "      <td>8891.00</td>\n",
       "      <td>2</td>\n",
       "      <td>2</td>\n",
       "      <td>89</td>\n",
       "    </tr>\n",
       "    <tr>\n",
       "      <th>...</th>\n",
       "      <td>...</td>\n",
       "      <td>...</td>\n",
       "      <td>...</td>\n",
       "      <td>...</td>\n",
       "    </tr>\n",
       "    <tr>\n",
       "      <th>d2c63ad286e3ca9dd69218008d61ff81</th>\n",
       "      <td>11.62</td>\n",
       "      <td>1</td>\n",
       "      <td>1</td>\n",
       "      <td>601</td>\n",
       "    </tr>\n",
       "    <tr>\n",
       "      <th>046f890135acc703faff4c1fc0c2d73c</th>\n",
       "      <td>11.56</td>\n",
       "      <td>2</td>\n",
       "      <td>2</td>\n",
       "      <td>68</td>\n",
       "    </tr>\n",
       "    <tr>\n",
       "      <th>8e4bd65db637116b6b68109e4df21b84</th>\n",
       "      <td>10.89</td>\n",
       "      <td>1</td>\n",
       "      <td>1</td>\n",
       "      <td>68</td>\n",
       "    </tr>\n",
       "    <tr>\n",
       "      <th>184e8e8e48937145eb96c721ef1f0747</th>\n",
       "      <td>10.07</td>\n",
       "      <td>1</td>\n",
       "      <td>1</td>\n",
       "      <td>349</td>\n",
       "    </tr>\n",
       "    <tr>\n",
       "      <th>a790343ca6f3fee08112d678b43aa7c5</th>\n",
       "      <td>9.59</td>\n",
       "      <td>2</td>\n",
       "      <td>2</td>\n",
       "      <td>3</td>\n",
       "    </tr>\n",
       "  </tbody>\n",
       "</table>\n",
       "<p>94471 rows × 4 columns</p>\n",
       "</div>"
      ],
      "text/plain": [
       "                                  total_spent  order_count  review_count  \\\n",
       "customer_id                                                                \n",
       "71901689c5f3e5adc27b1dd16b33f0b8     15978.65            5             5   \n",
       "1617b1357756262bfa56ab541c47bc16     13664.08            1             1   \n",
       "be1c4e52bb71e0c54b11a26b8e8d59f2     10247.40           12            12   \n",
       "0d861a5e4dd6a9079d89e1330848f0ab      9258.24            8             8   \n",
       "cc803a2c412833101651d3f90ca7de24      8891.00            2             2   \n",
       "...                                       ...          ...           ...   \n",
       "d2c63ad286e3ca9dd69218008d61ff81        11.62            1             1   \n",
       "046f890135acc703faff4c1fc0c2d73c        11.56            2             2   \n",
       "8e4bd65db637116b6b68109e4df21b84        10.89            1             1   \n",
       "184e8e8e48937145eb96c721ef1f0747        10.07            1             1   \n",
       "a790343ca6f3fee08112d678b43aa7c5         9.59            2             2   \n",
       "\n",
       "                                  days_since_last_order  \n",
       "customer_id                                              \n",
       "71901689c5f3e5adc27b1dd16b33f0b8                     99  \n",
       "1617b1357756262bfa56ab541c47bc16                    333  \n",
       "be1c4e52bb71e0c54b11a26b8e8d59f2                    316  \n",
       "0d861a5e4dd6a9079d89e1330848f0ab                     17  \n",
       "cc803a2c412833101651d3f90ca7de24                     89  \n",
       "...                                                 ...  \n",
       "d2c63ad286e3ca9dd69218008d61ff81                    601  \n",
       "046f890135acc703faff4c1fc0c2d73c                     68  \n",
       "8e4bd65db637116b6b68109e4df21b84                     68  \n",
       "184e8e8e48937145eb96c721ef1f0747                    349  \n",
       "a790343ca6f3fee08112d678b43aa7c5                      3  \n",
       "\n",
       "[94471 rows x 4 columns]"
      ]
     },
     "execution_count": 76,
     "metadata": {},
     "output_type": "execute_result"
    }
   ],
   "source": [
    "\n",
    "\n",
    "# Convert timestamps to datetime\n",
    "data['order_purchase_timestamp'] = pd.to_datetime(data['order_purchase_timestamp'])\n",
    "\n",
    "# Aggregate customer engagement metrics\n",
    "customer_metrics = data.groupby('customer_id').agg(\n",
    "    total_spent=('payment_value', 'sum'),\n",
    "    order_count=('order_id', 'count'),\n",
    "    review_count=('review_id', 'count'),\n",
    "    last_purchase=('order_purchase_timestamp', 'max')\n",
    ")\n",
    "\n",
    "# Convert last purchase date to days since last order\n",
    "customer_metrics['days_since_last_order'] = (data['order_purchase_timestamp'].max() - customer_metrics['last_purchase']).dt.days\n",
    "\n",
    "# Drop last purchase column\n",
    "customer_metrics = customer_metrics.drop(columns=['last_purchase'])\n",
    "\n",
    "# Sort by total spending to find most valuable customers\n",
    "top_customers = customer_metrics.sort_values(by='total_spent', ascending=False)\n",
    "\n",
    "# Display top customers\n",
    "top_customers\n"
   ]
  },
  {
   "cell_type": "code",
   "execution_count": 77,
   "metadata": {},
   "outputs": [
    {
     "data": {
      "image/png": "[encoded data removed]",
      "text/plain": [
       "<Figure size 800x500 with 1 Axes>"
      ]
     },
     "metadata": {},
     "output_type": "display_data"
    }
   ],
   "source": [
    "\n",
    "\n",
    "# Convert timestamps to datetime\n",
    "date_columns = ['order_purchase_timestamp', 'order_approved_time', \n",
    "                'order_delivered_carrier_date', 'order_delivered_customer_date', \n",
    "                'order_estimated_delivery_date']\n",
    "data[date_columns] = data[date_columns].apply(pd.to_datetime)\n",
    "\n",
    "# Calculate delays\n",
    "data['processing_delay'] = (data['order_approved_time'] - data['order_purchase_timestamp']).dt.total_seconds() / 3600  # In hours\n",
    "data['shipping_delay'] = (data['order_delivered_customer_date'] - data['order_approved_time']).dt.total_seconds() / 86400  # In days\n",
    "data['missed_delivery_days'] = (data['order_delivered_customer_date'] - data['order_estimated_delivery_date']).dt.total_seconds() / 86400  # In days\n",
    "data['carrier_delay'] = (data['order_delivered_carrier_date'] - data['order_approved_time']).dt.total_seconds() / 86400  # In days\n",
    "\n",
    "# Aggregate metrics\n",
    "bottlenecks = data[['processing_delay', 'shipping_delay', 'missed_delivery_days', 'carrier_delay']].mean()\n",
    "\n",
    "# Plot bottlenecks\n",
    "plt.figure(figsize=(8, 5))\n",
    "bottlenecks.plot(kind='bar', color=['blue', 'orange', 'red', 'green'])\n",
    "plt.title(\"Average Delays in Order Processing and Shipping\")\n",
    "plt.ylabel(\"Time (Days for Shipping, Hours for Processing)\")\n",
    "plt.xticks(rotation=45)\n",
    "plt.grid(axis='y', linestyle='--', alpha=0.7)\n",
    "\n",
    "# Show plot\n",
    "plt.show()\n"
   ]
  },
  {
   "cell_type": "markdown",
   "metadata": {},
   "source": [
    "## Operational Bottlenecks in Shipping and Order Processing\n",
    "\n",
    "### Processing Delay: **10.19 hours**  \n",
    "- On average, it takes about **10 hours** for an order to be approved after purchase.  \n",
    "- A high processing time can indicate **inefficiencies in payment confirmation or order validation**.  \n",
    "\n",
    "### Shipping Delay: **12.05 days**  \n",
    "- Orders take **12 days on average** to be shipped after approval.  \n",
    "- This suggests potential **warehouse or logistics delays**, which can impact customer satisfaction.  \n",
    "\n",
    "### Missed Delivery Days: **-11.35 days**  \n",
    "- Negative value means orders are delivered **11 days earlier** than estimated.  \n",
    "- This might suggest that the estimated delivery dates are **too conservative**, which could be adjusted to set more accurate expectations.  \n",
    "\n",
    "### Carrier Delay: **2.79 days**  \n",
    "- It takes nearly **3 days** for the carrier to receive the package after approval.  \n",
    "- A high carrier delay indicates possible **warehouse fulfillment issues or slow handover to shipping partners**.  \n"
   ]
  },
  {
   "cell_type": "markdown",
   "metadata": {},
   "source": [
    "## Conclusion and Recommendations  \n",
    "\n",
    "### Conclusion  \n",
    "The analysis highlights key trends and challenges in order performance, revenue generation, and operational efficiency:  \n",
    "\n",
    "- **Orders and Revenue Growth:** Business experienced growth from 2016 to 2018, with peak sales in **November 2017**.  \n",
    "- **Order-Revenue Correlation:** A strong **positive correlation** suggests that increasing order volume directly boosts revenue.  \n",
    "- **Top Revenue Contributors:** The **Health & Beauty** category dominates sales, indicating a high demand for personal care products.  \n",
    "- **Delivery Performance:** While **92.21%** of orders are delivered on time, delays in processing and carrier handover impact efficiency.  \n",
    "- **Payment Processing:** **Boleto** payments significantly slow down order approvals, while **credit cards** offer the fastest processing.  \n",
    "- **Customer Satisfaction:** **Longer shipping times correlate with lower review scores**, emphasizing the need for better logistics management.  \n",
    "\n",
    "### Recommendations  \n",
    "\n",
    "1. **Optimize Payment Processing:**  \n",
    "   - Promote **credit card payments** to reduce approval times.  \n",
    "   - Streamline manual verification for **boleto** transactions to minimize delays.  \n",
    "\n",
    "2. **Enhance Delivery Efficiency:**  \n",
    "   - **Reduce warehouse processing delays** by improving order validation workflows.  \n",
    "   - Partner with reliable **logistics providers** to minimize carrier delays.  \n",
    "   - Adjust **estimated delivery dates** to set realistic customer expectations.  \n",
    "\n",
    "3. **Boost Revenue Growth:**  \n",
    "   - Leverage **peak seasons like November** with targeted promotions.  \n",
    "   - Expand **Health & Beauty product offerings** to maximize sales potential.  \n",
    "\n",
    "4. **Improve Customer Experience:**  \n",
    "   - Address **shipping delays** to enhance **review scores and satisfaction**.  \n",
    "   - Offer **faster shipping options** to meet customer expectations.  \n",
    "\n",
    "By implementing these strategies, the business can **increase efficiency, boost revenue, and enhance customer satisfaction**. 🚀  \n"
   ]
  },
  {
   "cell_type": "code",
   "execution_count": null,
   "metadata": {},
   "outputs": [],
   "source": []
  }
 ],
 "metadata": {
  "kernelspec": {
   "display_name": "base",
   "language": "python",
   "name": "python3"
  },
  "language_info": {
   "codemirror_mode": {
    "name": "ipython",
    "version": 3
   },
   "file_extension": ".py",
   "mimetype": "text/x-python",
   "name": "python",
   "nbconvert_exporter": "python",
   "pygments_lexer": "ipython3",
   "version": "3.12.7"
  }
 },
 "nbformat": 4,
 "nbformat_minor": 2
}
